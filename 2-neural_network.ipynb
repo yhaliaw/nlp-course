{
 "cells": [
  {
   "cell_type": "markdown",
   "metadata": {},
   "source": [
    "# Artificial neural network\n",
    "\n",
    "Inspired by biological neural networks, perceptron was created in the late 1960s. Since then, a generalized form of neural network has gain popularity, and new structures were created for different proposes."
   ]
  },
  {
   "cell_type": "markdown",
   "metadata": {},
   "source": [
    "The core idea is to use an artificial neural network to approximate a function rather than creating a function through experiments and/or deriving it.\n",
    "\n",
    "Say we want to model kinetic energy. We might carry out a series of physical experiments and figure out the relationship between mass, speed, kinetic energy, and arrive at a function like:\n",
    "\n",
    "$$ \\text{kinetic energy} = \\frac{1}{2} \\text{mass} \\cdot \\text{speed}^2 $$\n",
    "\n",
    "Say we want to model aerodynamics of an airplane, we might derive a function with known physical laws.\n",
    "\n",
    "However, there might be somethings we want to model that is too complex to derive this way.\n",
    "\n",
    "One approach to model such problems is artificial neural networks."
   ]
  },
  {
   "cell_type": "markdown",
   "metadata": {},
   "source": [
    "A function takes in an input and produce an output.\n",
    "\n",
    "$f(x) = y$, where $f(\\cdot)$ is the function, $x$ is the input, $y$ is the output.\n",
    "\n",
    "A neural network is no different, it takes in an input and produces an output as well. However, rather than a formula like in the kinetic energy example, neural networks calculate the output with a network of neurons."
   ]
  },
  {
   "cell_type": "markdown",
   "metadata": {},
   "source": [
    "This is inspired by biological neural network which is a network formed by neurons. With each neuron taking in impulses from some neurons and decide whether to fire off an impulse to other neurons.\n",
    "\n",
    "![bio_neuron.png](img/bio_neuron.png)\n",
    "\n",
    "Retrieved from: https://simplebiologyy.blogspot.com/2014/08/conduction-of-nerve-impulse.html"
   ]
  },
  {
   "cell_type": "markdown",
   "metadata": {},
   "source": [
    "Here is an example artificial neural network with input of size 2 and output of size 2. Meaning there are two input scalars and two output scalars. A scalar is just a number, e.g., $1.3$, or $\\text{-}3.2$.\n",
    "\n",
    "Usually, the input and output of a neural network is an array of scalars (vector).\n",
    "\n",
    "![small_neural_network.png](img/3_layer_neural_network.png)\n",
    "\n",
    "This is type of neural network is a fully connected feedforward network.\n",
    "\n",
    "The grey cell represents the input values.\n",
    "\n",
    "Each of the white cells (\"hidden 1\", \"output 1\", etc.) are a neuron.\n",
    "\n",
    "These neurons are organized into layers. By convention, the layer between input layer and output layer is called a hidden layer. There can be multiple hidden layers in a network. \n",
    "\n",
    "The output of each cell is fed to the connected cell as their input."
   ]
  },
  {
   "cell_type": "markdown",
   "metadata": {},
   "source": [
    "To understand how the network as a whole, we need to know how the individual neurons work."
   ]
  },
  {
   "cell_type": "markdown",
   "metadata": {},
   "source": [
    "## Neuron\n",
    "\n",
    "Let us start with a simplified neuron. This neuron takes the inputs and compute a weighted sum as the output.\n",
    "\n",
    "![simple_neuron.png](img/simple_neuron.png)\n",
    "\n",
    "In this case, there are three input connections. \n",
    "\n",
    "The three input values are: $0.5$, $3.1$, $\\text{-}1.3$.\n",
    "\n",
    "The weights for each of the inputs are: $\\text{-}1.4$, $0.2$, $2.3$.\n",
    "\n",
    "The output of the neuron is $\\text{-}3.07$.\n",
    "\n",
    "The output is the sum of each input multiplied by its weight.\n",
    "\n",
    "$0.5 \\times \\text{-}1.4 + 3.1 \\times 0.2 + \\text{-}1.3 \\times 2.3 = \\text{-}3.07$"
   ]
  },
  {
   "cell_type": "markdown",
   "metadata": {},
   "source": [
    "Complex systems tend to be [nonlinear](https://en.wikipedia.org/wiki/Nonlinear_system) in nature. For the neural network to model nonlinear system, some form of nonlinearity needs to be included.\n",
    "\n",
    "For this reason, neuron includes an activation function. The weighted sum of the neuron is inputted into the activation function."
   ]
  },
  {
   "cell_type": "markdown",
   "metadata": {},
   "source": [
    "It is possible to have no activation function (or identity function as activation) for some layers. It is just some nonlinearity needs to be present in the network.\n",
    "\n",
    "Identity function: $f(x) = x$"
   ]
  },
  {
   "cell_type": "markdown",
   "metadata": {},
   "source": [
    "There are a variety of [activation functions](https://towardsdatascience.com/activation-functions-neural-networks-1cbd9f8d91d6). A highly popular and useful one is the ReLU.\n",
    "\n",
    "However, we will be using [sigmoid](https://en.wikipedia.org/wiki/Sigmoid_function) for now.\n",
    "\n",
    "$$\\sigma(x) = \\frac{1}{1+e^{\\text{-}x}}$$\n",
    " \n",
    "where $\\sigma(\\cdot)$ is the sigmoid function."
   ]
  },
  {
   "cell_type": "markdown",
   "metadata": {},
   "source": [
    "Plot of sigmoid:"
   ]
  },
  {
   "cell_type": "code",
   "execution_count": 1,
   "metadata": {},
   "outputs": [],
   "source": [
    "import numpy as np\n",
    "import matplotlib.pyplot as plt"
   ]
  },
  {
   "cell_type": "code",
   "execution_count": 2,
   "metadata": {},
   "outputs": [],
   "source": [
    "def sigmoid(x):\n",
    "    return 1 / (1 + np.exp(-x))"
   ]
  },
  {
   "cell_type": "code",
   "execution_count": 3,
   "metadata": {},
   "outputs": [
    {
     "data": {
      "image/png": "[encoded data removed]",
      "text/plain": [
       "<Figure size 432x288 with 1 Axes>"
      ]
     },
     "metadata": {
      "needs_background": "light"
     },
     "output_type": "display_data"
    }
   ],
   "source": [
    "x = np.linspace(-10, 10, 100)\n",
    "y = sigmoid(x)\n",
    "\n",
    "plt.plot(x, y)\n",
    "plt.show()"
   ]
  },
  {
   "cell_type": "markdown",
   "metadata": {},
   "source": [
    "Here is the version of neuron with sigmoid activation function:\n",
    "\n",
    "![full_neuron.png](img/full_neuron.png)\n",
    "\n",
    "The inputs and weights are the same as the simplified neuron.\n",
    "\n",
    "The only different is there is a sigmoid activation function. So the output is now 0.04.\n",
    "\n",
    "$\\sigma(\\text{-}3.07) = 0.04$"
   ]
  },
  {
   "cell_type": "code",
   "execution_count": 4,
   "metadata": {},
   "outputs": [
    {
     "data": {
      "text/plain": [
       "0.04436182758915638"
      ]
     },
     "execution_count": 4,
     "metadata": {},
     "output_type": "execute_result"
    }
   ],
   "source": [
    "sigmoid(-3.07)"
   ]
  },
  {
   "cell_type": "markdown",
   "metadata": {},
   "source": [
    "For three inputs, a neuron would look like:\n",
    "\n",
    "![neuron.png](img/neuron.png)\n",
    "\n",
    "Where x1, x2, x3 are the inputs, w1, w2 ,w3 are the weights, h(·) is a activation function, and y is the output.\n",
    "\n",
    "The neuron takes the weighted sum of the inputs and pass it into an activation function."
   ]
  },
  {
   "cell_type": "markdown",
   "metadata": {},
   "source": [
    "The general formula for any input size is:\n",
    "\n",
    "$n(\\cdot)$ is the neuron function and $h(\\cdot)$ is an activation function.\n",
    "\n",
    "$n(x_1, x_2, \\dots , x_n) = h(w_1 \\times x_1 + w_2 \\times x_2 + ... + w_n \\times x_n)$\n",
    "\n",
    "where $x_i$ are the inputs, and $w_i$ are the weights.\n",
    "\n",
    "or\n",
    "\n",
    "$n(\\vec x) = h(\\vec w \\cdot \\vec x)$\n",
    "\n",
    "where $\\vec x$ is the vector of $x_i$, and $\\vec w$ is the vector of $w_i$."
   ]
  },
  {
   "cell_type": "markdown",
   "metadata": {},
   "source": [
    "## Fully connected feedforward neural network\n",
    "\n",
    "In a fully connected feedforward network, all possible connections between any two layers are present. \n",
    "\n",
    "There will be one input layer and one output layer with any amount of hidden layers.\n",
    "\n",
    "Here is a sample two layer network:\n",
    "\n",
    "![2_layer_neural_network](img/2_layer_neural_network.png)\n",
    "\n",
    "There are three inputs and two outputs.\n",
    "\n",
    "Here is the three layer network shown at the start:\n",
    "\n",
    "![3_layer_neural_network](img/3_layer_neural_network.png)\n",
    "\n",
    "There are two inputs and two outputs with a hidden layer of size 3."
   ]
  },
  {
   "cell_type": "markdown",
   "metadata": {},
   "source": [
    "By the way, fully connect feedforward are often just referred as fully connected."
   ]
  },
  {
   "cell_type": "markdown",
   "metadata": {},
   "source": [
    "Recall the formula for a neuron is: $n(\\vec x) = h(\\vec x \\cdot \\vec w)$\n",
    "\n",
    "From that the formula for fully connected layer can be derived."
   ]
  },
  {
   "cell_type": "markdown",
   "metadata": {},
   "source": [
    "Here is an fully connected layer with 2 inputs and 2 outputs.\n",
    "\n",
    "![feed_forward.png](img/feed_forward.png)\n",
    "\n",
    "The two inputs are $\\text{x1}$ and $\\text{x2}$.\n",
    "\n",
    "The two outputs are $\\text{y1}$ and $\\text{y2}$.\n",
    "\n",
    "The $h(\\cdot)$ is the activation function (not shown in image).\n",
    "\n",
    "Using the formula for neuron, the outputs should be:\n",
    "\n",
    "$\\text{y1} = h(\\text{w11} \\times \\text{x1} + \\text{w21} \\times \\text{x2})$\n",
    "\n",
    "$\\text{y2} = h(\\text{w12} \\times \\text{x1} + \\text{w22} \\times \\text{x2})$\n",
    "\n",
    "Alternatively, we could use vector and matrix representations:\n",
    "\n",
    "The inputs: $\\vec x = (\\text{x1}, \\text{x2})$\n",
    "\n",
    "the outputs: $\\vec y = (\\text{y1}, \\text{y2})$\n",
    "\n",
    "The weight matrix: $\\mathbf W = \\begin{bmatrix}\\text{w11} & \\text{w12}\\\\ \\text{w21} & \\text{w22} \\end{bmatrix}$\n",
    "\n",
    "Then it becomes:\n",
    "\n",
    "$\\vec y = h(\\vec x \\cdot \\mathbf W)$"
   ]
  },
  {
   "cell_type": "markdown",
   "metadata": {},
   "source": [
    "#### General form\n",
    "Say $\\text{ff}(\\cdot)$ is the function of a fully connected layer, then:\n",
    "\n",
    "$\\text{ff}(\\vec x) = h(\\vec x \\cdot \\mathbf W)$\n",
    "\n",
    "Where $\\vec x$ is the input of the layer, and $\\mathbf W$ is the weight matrix of all the input connections of the layer.\n",
    "\n",
    "Note in this fully connected layer each neuron uses the same activation function $h(\\cdot)$."
   ]
  },
  {
   "cell_type": "markdown",
   "metadata": {},
   "source": [
    "Some versions adds a bias for each neuron. Which results in:\n",
    "\n",
    "$\\text{ff}(\\vec x) = h(\\vec x \\cdot \\mathbf W + \\vec b)$\n",
    "\n",
    "where $\\vec b$ is a vector of bias.\n",
    "\n",
    "Bias is just a scalar to shift the function along the x-axis (input axis).\n",
    "\n",
    "For example, $f(x)=x-1$ is shift to the left by one compared to $f(x)=x$. The scalar $1$ is the bias in the example."
   ]
  },
  {
   "cell_type": "markdown",
   "metadata": {},
   "source": [
    "A network of fully connected layers would have network function that is consist of nested $\\text{ff}(\\cdot)$.\n",
    "\n",
    "For example, a two layer fully connected network function $N(\\cdot)$ of:\n",
    "\n",
    "$N(\\vec x) = h_2(h_1(\\vec x \\cdot \\mathbf W_1 + \\vec b_1) \\cdot \\mathbf W_2 + \\vec b_2)$\n"
   ]
  },
  {
   "cell_type": "markdown",
   "metadata": {},
   "source": [
    "## Example of fully connected network\n",
    "\n",
    "Now we know how neurons work and one way to build a network of them, we can use a simple neural network to model a system.\n",
    "\n",
    "Let us create a model to classify iris flowers with the petal width and petal length of a flower.\n",
    "\n",
    "That means given a set of width and length of petal, our model can guess what type of iris flower it is.\n",
    "\n",
    "There are three types of iris flowers:\n",
    "\n",
    "##### Iris setosa:\n",
    "\n",
    "![Iris_setosa.jpg](img/Iris_setosa.jpg)\n",
    "\n",
    "Retrieved and downscaled from: https://en.wikipedia.org/wiki/Iris_setosa#/media/File:Kosaciec_szczecinkowaty_Iris_setosa.jpg\n",
    "\n",
    "##### Iris versicolor:\n",
    "\n",
    "![Iris_versicolor.jpg](img/Iris_versicolor.jpg)\n",
    "\n",
    "Retrieved and downscaled from: https://en.wikipedia.org/wiki/Iris_versicolor#/media/File:Blue_Flag,_Ottawa.jpg\n",
    "\n",
    "##### Iris virginica:\n",
    "\n",
    "![Iris_virginica.jpg](img/Iris_virginica.jpg)\n",
    "\n",
    "Retrieved and downscaled from: https://en.wikipedia.org/wiki/Iris_virginica#/media/File:Iris_virginica_2.jpg"
   ]
  },
  {
   "cell_type": "markdown",
   "metadata": {},
   "source": [
    "### Load the dataset\n",
    "\n",
    "We will be using the [iris data set](https://archive.ics.uci.edu/ml/datasets/iris)."
   ]
  },
  {
   "cell_type": "code",
   "execution_count": 5,
   "metadata": {},
   "outputs": [],
   "source": [
    "import os\n",
    "import pandas as pd\n",
    "\n",
    "data_path = os.path.join('data', 'iris.data')\n",
    "dataset = pd.read_csv(data_path, names=['sepal length (cm)', 'sepal width (cm)', 'petal length (cm)', 'petal width (cm)', 'class'])"
   ]
  },
  {
   "cell_type": "markdown",
   "metadata": {},
   "source": [
    "Here is what the data look like:"
   ]
  },
  {
   "cell_type": "code",
   "execution_count": 6,
   "metadata": {},
   "outputs": [
    {
     "data": {
      "text/html": [
       "<div>\n",
       "<style scoped>\n",
       "    .dataframe tbody tr th:only-of-type {\n",
       "        vertical-align: middle;\n",
       "    }\n",
       "\n",
       "    .dataframe tbody tr th {\n",
       "        vertical-align: top;\n",
       "    }\n",
       "\n",
       "    .dataframe thead th {\n",
       "        text-align: right;\n",
       "    }\n",
       "</style>\n",
       "<table border=\"1\" class=\"dataframe\">\n",
       "  <thead>\n",
       "    <tr style=\"text-align: right;\">\n",
       "      <th></th>\n",
       "      <th>sepal length (cm)</th>\n",
       "      <th>sepal width (cm)</th>\n",
       "      <th>petal length (cm)</th>\n",
       "      <th>petal width (cm)</th>\n",
       "      <th>class</th>\n",
       "    </tr>\n",
       "  </thead>\n",
       "  <tbody>\n",
       "    <tr>\n",
       "      <th>0</th>\n",
       "      <td>5.1</td>\n",
       "      <td>3.5</td>\n",
       "      <td>1.4</td>\n",
       "      <td>0.2</td>\n",
       "      <td>Iris-setosa</td>\n",
       "    </tr>\n",
       "    <tr>\n",
       "      <th>1</th>\n",
       "      <td>4.9</td>\n",
       "      <td>3.0</td>\n",
       "      <td>1.4</td>\n",
       "      <td>0.2</td>\n",
       "      <td>Iris-setosa</td>\n",
       "    </tr>\n",
       "    <tr>\n",
       "      <th>2</th>\n",
       "      <td>4.7</td>\n",
       "      <td>3.2</td>\n",
       "      <td>1.3</td>\n",
       "      <td>0.2</td>\n",
       "      <td>Iris-setosa</td>\n",
       "    </tr>\n",
       "  </tbody>\n",
       "</table>\n",
       "</div>"
      ],
      "text/plain": [
       "   sepal length (cm)  sepal width (cm)  petal length (cm)  petal width (cm)  \\\n",
       "0                5.1               3.5                1.4               0.2   \n",
       "1                4.9               3.0                1.4               0.2   \n",
       "2                4.7               3.2                1.3               0.2   \n",
       "\n",
       "         class  \n",
       "0  Iris-setosa  \n",
       "1  Iris-setosa  \n",
       "2  Iris-setosa  "
      ]
     },
     "execution_count": 6,
     "metadata": {},
     "output_type": "execute_result"
    }
   ],
   "source": [
    "dataset[:3]"
   ]
  },
  {
   "cell_type": "markdown",
   "metadata": {},
   "source": [
    "The \"class\" column is the type of flower.\n",
    "\n",
    "The other four columns are the length and width of sepal and petal, these are the four features given in the dataset.\n",
    "\n",
    "Out of the 4 features given, we are only going to use the petal length and petal width."
   ]
  },
  {
   "cell_type": "markdown",
   "metadata": {},
   "source": [
    "### Visualize the dataset\n",
    "\n",
    "To visualize the dataset, we will be using seaborn."
   ]
  },
  {
   "cell_type": "code",
   "execution_count": 7,
   "metadata": {},
   "outputs": [],
   "source": [
    "import matplotlib.pyplot as plt\n",
    "import seaborn as sns"
   ]
  },
  {
   "cell_type": "code",
   "execution_count": 8,
   "metadata": {},
   "outputs": [
    {
     "data": {
      "image/png": "[encoded data removed]",
      "text/plain": [
       "<Figure size 463.5x360 with 1 Axes>"
      ]
     },
     "metadata": {
      "needs_background": "light"
     },
     "output_type": "display_data"
    }
   ],
   "source": [
    "sns.relplot(x='petal length (cm)', y='petal width (cm)', hue='class', data=dataset)\n",
    "plt.show()"
   ]
  },
  {
   "cell_type": "markdown",
   "metadata": {},
   "source": [
    "The goal of our network is to determine which class a data point belongs to.\n",
    "\n",
    "Given set of petal length and petal width, the network would output the class of the flower."
   ]
  },
  {
   "cell_type": "markdown",
   "metadata": {},
   "source": [
    "One way to see it is for the network to decide on some boundary for classification.\n",
    "\n",
    "One possible decision boundary may look like:"
   ]
  },
  {
   "cell_type": "code",
   "execution_count": 9,
   "metadata": {},
   "outputs": [
    {
     "data": {
      "image/png": "[encoded data removed]",
      "text/plain": [
       "<Figure size 463.5x360 with 1 Axes>"
      ]
     },
     "metadata": {
      "needs_background": "light"
     },
     "output_type": "display_data"
    }
   ],
   "source": [
    "sns.relplot(x='petal length (cm)', y='petal width (cm)', hue='class', data=dataset)\n",
    "plt.plot([5, 0], [0, 1.4], 'r', linewidth=2)\n",
    "plt.plot([6.7, 2], [1.2, 2.5], 'r', linewidth=2)\n",
    "plt.show()"
   ]
  },
  {
   "cell_type": "markdown",
   "metadata": {},
   "source": [
    "### Structure of the fully connected network\n",
    "\n",
    "A neural network takes scalars as inputs and output scalars.\n",
    "\n",
    "It is easy to see how input petal length and petal width as they are both scalars.\n",
    "\n",
    "But how to make the network output one of the three classes of flower?\n",
    "\n",
    "One way is for the network to output three scalars, each representing a class. The class with the largest value will be the chosen class."
   ]
  },
  {
   "cell_type": "markdown",
   "metadata": {},
   "source": [
    "Since there are two inputs, the input layer will consist of two units. There are three outputs, so three neurons in output layer.\n",
    "\n",
    "Now we decide on how many hidden layers and how many neurons in each layer. There are no hard and fast rules for choosing these. Often these parameters are chosen with trial and error.\n",
    "\n",
    "We will be using a single hidden layer with 3 neurons.\n",
    "\n",
    "With that our network would look like:\n",
    "\n",
    "![small_iris_network.png](img/small_iris_network.png)\n",
    "\n",
    "The first output would represent iris setosa. The second would be iris versicolor. And the third being iris virginica."
   ]
  },
  {
   "cell_type": "markdown",
   "metadata": {},
   "source": [
    "### Implementing fully connected network\n",
    "\n",
    "Let us start by implementing fully connected layer."
   ]
  },
  {
   "cell_type": "code",
   "execution_count": 10,
   "metadata": {},
   "outputs": [],
   "source": [
    "class FullyConnected:\n",
    "    \n",
    "    def __init__(self, input_size, output_size, activation):\n",
    "        # Init weight matrix to random values\n",
    "        self.weight = np.random.rand(input_size, output_size)  \n",
    "        self.activation = activation\n",
    "        \n",
    "    def run(self, x):\n",
    "        x = x @ self.weight  # @ is the dot product operator in Python\n",
    "        # Apply the activation function to each weighted sum\n",
    "        x = self.activation(x)\n",
    "        return x"
   ]
  },
  {
   "cell_type": "markdown",
   "metadata": {},
   "source": [
    "This is an implementation of the general formula for a fully connected layer (without bias).\n",
    "\n",
    "Note the weights are randomly chosen. Since we have not learned how to assign these weights.\n",
    "\n",
    "Now, we can make the network with fully connected layers."
   ]
  },
  {
   "cell_type": "code",
   "execution_count": 11,
   "metadata": {},
   "outputs": [],
   "source": [
    "class IrisNetwork:\n",
    "    \n",
    "    def __init__(self):\n",
    "        self.hidden = FullyConnected(2, 3, sigmoid)\n",
    "        self.output = FullyConnected(3, 3, sigmoid)\n",
    "        \n",
    "    def run(self, x):\n",
    "        x = self.hidden.run(x)\n",
    "        x = self.output.run(x)\n",
    "        return x"
   ]
  },
  {
   "cell_type": "code",
   "execution_count": 12,
   "metadata": {},
   "outputs": [],
   "source": [
    "network = IrisNetwork()"
   ]
  },
  {
   "cell_type": "markdown",
   "metadata": {},
   "source": [
    "With a network defined, we can test it with the data."
   ]
  },
  {
   "cell_type": "code",
   "execution_count": 13,
   "metadata": {},
   "outputs": [],
   "source": [
    "to_class = {0: \"Iris-setosa\", 1: \"Iris-versicolor\", 2: \"Iris-virginica\"}\n",
    "i = 0"
   ]
  },
  {
   "cell_type": "markdown",
   "metadata": {},
   "source": [
    "The data is the petal length and petal width "
   ]
  },
  {
   "cell_type": "code",
   "execution_count": 14,
   "metadata": {},
   "outputs": [
    {
     "name": "stdout",
     "output_type": "stream",
     "text": [
      "[1.4 0.2]\n"
     ]
    }
   ],
   "source": [
    "data = dataset.loc[i, ['petal length (cm)', 'petal width (cm)']].to_numpy(dtype=np.float_)\n",
    "print(data)"
   ]
  },
  {
   "cell_type": "markdown",
   "metadata": {},
   "source": [
    "The target is correct output for the network. Which is the type of flower."
   ]
  },
  {
   "cell_type": "code",
   "execution_count": 15,
   "metadata": {},
   "outputs": [
    {
     "name": "stdout",
     "output_type": "stream",
     "text": [
      "Iris-setosa\n"
     ]
    }
   ],
   "source": [
    "target = dataset.loc[i, ['class']].tolist()[0]\n",
    "print(target)"
   ]
  },
  {
   "cell_type": "markdown",
   "metadata": {},
   "source": [
    "We can now feed the network the input and the class represented with the largest output is chosen."
   ]
  },
  {
   "cell_type": "markdown",
   "metadata": {},
   "source": [
    "The network output:"
   ]
  },
  {
   "cell_type": "code",
   "execution_count": 16,
   "metadata": {},
   "outputs": [
    {
     "data": {
      "text/plain": [
       "array([0.77957496, 0.75517361, 0.78954698])"
      ]
     },
     "execution_count": 16,
     "metadata": {},
     "output_type": "execute_result"
    }
   ],
   "source": [
    "y = network.run(data)\n",
    "y"
   ]
  },
  {
   "cell_type": "markdown",
   "metadata": {},
   "source": [
    "The index of max in output:"
   ]
  },
  {
   "cell_type": "code",
   "execution_count": 17,
   "metadata": {},
   "outputs": [
    {
     "data": {
      "text/plain": [
       "2"
      ]
     },
     "execution_count": 17,
     "metadata": {},
     "output_type": "execute_result"
    }
   ],
   "source": [
    "c = np.argmax(y)\n",
    "c"
   ]
  },
  {
   "cell_type": "markdown",
   "metadata": {},
   "source": [
    "The class of max in output:"
   ]
  },
  {
   "cell_type": "code",
   "execution_count": 18,
   "metadata": {},
   "outputs": [
    {
     "data": {
      "text/plain": [
       "'Iris-virginica'"
      ]
     },
     "execution_count": 18,
     "metadata": {},
     "output_type": "execute_result"
    }
   ],
   "source": [
    "to_class[c]"
   ]
  },
  {
   "cell_type": "markdown",
   "metadata": {},
   "source": [
    "Since the weights in the feedforward were randomly chosen, the output is random as well.\n",
    "\n",
    "Now we learn how a fully connected network works, we can learn how to assign proper weights to model a given dataset.\n",
    "\n",
    "In the next lesson, we will learn about backpropagation which is the most popular method for training a neural network."
   ]
  },
  {
   "cell_type": "markdown",
   "metadata": {},
   "source": [
    "### Practice:"
   ]
  },
  {
   "cell_type": "markdown",
   "metadata": {},
   "source": [
    "#### Exercise 1:\n",
    "\n",
    "Implement a fully connected with a input layer of size 4, 2 hidden layer of size 5, and a output layer of size 2.\n",
    "Sigmoid is the activation function all hidden and output layers.\n"
   ]
  },
  {
   "cell_type": "code",
   "execution_count": 19,
   "metadata": {},
   "outputs": [],
   "source": [
    "# code here"
   ]
  },
  {
   "cell_type": "markdown",
   "metadata": {},
   "source": [
    "#### Exercise 2:\n",
    "\n",
    "Input the vector $(0.4, -1.3, -32.3, 2.1)$ to the network.\n",
    "\n",
    "Note the output will be random since the weights are random."
   ]
  },
  {
   "cell_type": "code",
   "execution_count": 20,
   "metadata": {},
   "outputs": [],
   "source": [
    "# code here"
   ]
  },
  {
   "cell_type": "markdown",
   "metadata": {},
   "source": [
    "## Solutions:"
   ]
  },
  {
   "cell_type": "code",
   "execution_count": 21,
   "metadata": {},
   "outputs": [],
   "source": [
    "# Solution to exercise 1\n",
    "class Network:\n",
    "    \n",
    "    def __init__(self):\n",
    "        self.hidden1 = FullyConnected(4, 5, sigmoid)\n",
    "        self.hidden2 = FullyConnected(5, 5, sigmoid)\n",
    "        self.output = FullyConnected(5, 2, sigmoid)\n",
    "        \n",
    "    def run(self, x):\n",
    "        x = self.hidden1.run(x)\n",
    "        x = self.hidden2.run(x)\n",
    "        x = self.output.run(x)\n",
    "        return x"
   ]
  },
  {
   "cell_type": "code",
   "execution_count": 22,
   "metadata": {},
   "outputs": [
    {
     "data": {
      "text/plain": [
       "array([0.79984323, 0.73817321])"
      ]
     },
     "execution_count": 22,
     "metadata": {},
     "output_type": "execute_result"
    }
   ],
   "source": [
    "# Solution to exercise 2\n",
    "x = np.array([0.4, -1.3, -32.3, 2.1], dtype=np.float_)\n",
    "network = Network()\n",
    "\n",
    "network.run(x)"
   ]
  }
 ],
 "metadata": {
  "kernelspec": {
   "display_name": "Python 3",
   "language": "python",
   "name": "python3"
  },
  "language_info": {
   "codemirror_mode": {
    "name": "ipython",
    "version": 3
   },
   "file_extension": ".py",
   "mimetype": "text/x-python",
   "name": "python",
   "nbconvert_exporter": "python",
   "pygments_lexer": "ipython3",
   "version": "3.7.4"
  }
 },
 "nbformat": 4,
 "nbformat_minor": 4
}
