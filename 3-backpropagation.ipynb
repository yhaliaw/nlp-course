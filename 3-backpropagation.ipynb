{
 "cells": [
  {
   "cell_type": "markdown",
   "metadata": {},
   "source": [
    "# Backpropagation\n",
    "\n",
    "There are many ways to assign weight to a network. The most popular being backpropagation.\n",
    "\n",
    "Similar other machine learning algorithm, backpropagation fit a model to a training data.\n",
    "\n",
    "With a single case of training data inputted into the network, the output is compared to to correct value (target).\n",
    "\n",
    "If the output of the network is correct then nothing needs to be done, but if it is wrong than backpropagation looks at the difference between the correct value and network output to see how to change the weights so the network would output the correct value.\n",
    "\n",
    "The difference between network output and target is calculated by an loss function. There are many types of loss functions."
   ]
  },
  {
   "cell_type": "markdown",
   "metadata": {},
   "source": [
    "One loss function is the mean square error, which is the mean of square error function.\n",
    "\n",
    "Square error is for compare a single value with a target, and mean square error for a vector of values.\n",
    "\n",
    "Square error (SE):\n",
    "\n",
    "$$E_\\text{SE}(\\text{target}, \\text{output}) = \\frac{1}{2} (\\text{target} - \\text{output})^2$$\n",
    "\n",
    "Note, the $\\frac{1}{2}$ is there so the derivative of square error becomes: $\\frac{dE_\\text{SE}}{d\\text{output}} = \\text{output} - \\text{target}$\n",
    "\n",
    "Mean square error (MSE):\n",
    "\n",
    "$$E_\\text{MSE}(\\vec{\\text{target}}, \\vec{\\text{output}}) = \\frac{1}{2n} \\sum_{i=0}^n(\\text{target}_i - \\text{output}_i)^2$$"
   ]
  },
  {
   "cell_type": "markdown",
   "metadata": {},
   "source": [
    "The output of the loss function ($E(\\cdot)$) is called the loss ($E$).\n",
    "\n",
    "$$E = E(\\vec t, \\vec {o_n})$$\n",
    "\n",
    "Where $\\vec t$ is the vector of targets, $\\vec {o_n}$ is the vector of network output, and $n$ is the size of these vectors.\n",
    "\n",
    "Backpropagation alter the weights by performing some form of gradient descent on the loss."
   ]
  },
  {
   "cell_type": "markdown",
   "metadata": {},
   "source": [
    "## Gradient descent\n",
    "\n",
    "Gradient descent is an optimization algorithm. It is for finding the minimum of a function. \n",
    "\n",
    "By the way, gradient is just the multi-variable version of derivative.\n",
    "\n",
    "![gradient_descent.png](img/gradient_descent.png)\n",
    "\n",
    "In backpropagation, we are finding a set of weights the yields the minimum loss (difference between target and output). "
   ]
  },
  {
   "cell_type": "markdown",
   "metadata": {},
   "source": [
    "The idea is to use gradient descent to find the weights that gives the minimum loss.\n",
    "\n",
    "Since the slope/derivative/gradient always points away from the local minimum, by subtracting the gradient of the loss to the weights, the weights will move toward a lower loss. This is repeatedly done until the minimum is reached.\n",
    "\n",
    "There will be visualization of how this work in practice next lesson. Just know that gradient descent changes the input variables (e.g., weights) to minimize the output (e.g., loss)."
   ]
  },
  {
   "cell_type": "markdown",
   "metadata": {},
   "source": [
    "### The gradient descent update rule\n",
    "\n",
    "$\\vec w_{n+1} = \\vec w_n - \\eta \\nabla E $\n",
    "\n",
    "Where $\\vec w_n$ is a vector of all the weights at the $n$ iteration, $\\eta$ is a learning rate, $E$ is the loss. $\\nabla E$ means the gradient of loss.\n",
    " \n",
    "Usually the learning rate $\\eta$ is positive and set far below 1."
   ]
  },
  {
   "cell_type": "markdown",
   "metadata": {},
   "source": [
    "Or the change in $\\vec w$ equals negative learning rate times gradient of loss:\n",
    "\n",
    "$\\Delta \\vec w = - \\eta \\nabla E$"
   ]
  },
  {
   "cell_type": "markdown",
   "metadata": {},
   "source": [
    "Backpropagation is just repeatedly applying some form of gradient descent update rule to each weight. The most popular update rule right now is the [Adam optimizer](https://arxiv.org/abs/1412.6980)."
   ]
  },
  {
   "cell_type": "markdown",
   "metadata": {},
   "source": [
    "### Stochastic gradient descent\n",
    "Generally, batch gradient descent or stochastic gradient descent is used. The difference with gradient descent is how much data is used to calculate the loss.\n",
    "\n",
    "- gradient descent: The loss of all the training data is added up.\n",
    "\n",
    "- stochastic gradient descent: Only use a single case of training data.\n",
    "\n",
    "- batch gradient descent: The loss of a handful of training data is added up.\n",
    "\n",
    "The original backpropagation uses stochastic gradient descent, so that is the one we will be using for now.\n",
    "\n",
    "We will be considering the loss of a single case of training data at each iteration."
   ]
  },
  {
   "cell_type": "markdown",
   "metadata": {},
   "source": [
    "### Breaking down the update rule\n",
    "\n",
    "The gradient is a vector consisting of all the partial derivative with respect to the weights:\n",
    "\n",
    "$$\\nabla E = (\\frac{\\partial E}{\\partial w_{ij}}, \\dots)$$ $$ i, j \\in N $$\n",
    "\n",
    "Where $E$ is the loss, $w_{ij}$ is the weight between neuron $i$ and $j$, and $N$ denotes the set of all the neurons in the network.\n",
    "\n",
    "Note $\\partial$ is the partial derivative symbol. Partial derivative calculated just like derivatives. The difference is just the multi-variable setting."
   ]
  },
  {
   "cell_type": "markdown",
   "metadata": {},
   "source": [
    "The update rule describes how to change all the weight:\n",
    "\n",
    "$$\\Delta \\vec w = - \\eta \\nabla E$$"
   ]
  },
  {
   "cell_type": "markdown",
   "metadata": {},
   "source": [
    "For a single weight, this formula becomes:\n",
    "\n",
    "$$\\Delta w_{ij} = - \\eta \\frac{\\partial E}{\\partial w_{ij}}$$"
   ]
  },
  {
   "cell_type": "markdown",
   "metadata": {},
   "source": [
    "So in backpropagation we need to calculate a bunch of partial derivative to update the weights."
   ]
  },
  {
   "cell_type": "markdown",
   "metadata": {},
   "source": [
    "## Calculating partial derivatives\n",
    "\n",
    "This section is going to be very long. Calculating the partial derivatives is not difficult at all, it only requires the basics learned in a calculus class. But due to the complex structure of the neuron network, there is a lot stuff to keep track of. This section might require several rereading to fully comprehend.\n",
    "\n",
    "In order to calculate a partial derivative of the loss with respect to a weight, we need to apply the chain rule for derivative.\n",
    "\n",
    "$$\\frac{\\partial E}{\\partial w_{ij}} = \\frac{\\partial E}{\\partial o_j} \\cdot \\frac{\\partial o_j}{\\partial w_{ij}} $$\n",
    "\n",
    "Where $w_{ij}$ is the weight of $i$ input of $j$ neuron, $o_j$ is the output of $j$ neuron."
   ]
  },
  {
   "cell_type": "markdown",
   "metadata": {},
   "source": [
    "What this formula is saying is that the partial derivative of the loss with respect to a weight ($\\frac{\\partial E}{\\partial w_{ij}}$) can be split into: partial derivative of the loss with respect to the neuron output ($\\frac{\\partial E}{\\partial o_j}$) and partial derivative of the neuron output with respect to the weight ($\\frac{\\partial o_j}{\\partial w_{ij}}$)."
   ]
  },
  {
   "cell_type": "markdown",
   "metadata": {},
   "source": [
    "![backpropagation_chain_rule.png](img/backpropagation_chain_rule.png)"
   ]
  },
  {
   "cell_type": "markdown",
   "metadata": {},
   "source": [
    "### The $\\frac{\\partial o_j}{\\partial w_{ij}}$ part\n",
    "\n",
    "Recall the neuron function: $n(\\vec x) = h(\\vec w \\cdot \\vec x)$\n",
    "\n",
    "So the output of neuron $j$ ($o_j$) is equal to:\n",
    "\n",
    "$o_j = h_j(\\vec w \\cdot \\vec x)$\n",
    "\n",
    "Where $h_j(\\cdot)$ is the activation function of neuron $j$.\n",
    "\n",
    "Or breaking it down to two parts, the weighted sum ($s_j$) and the activation function of neuron $j$ ($h_j(\\cdot)$):\n",
    "\n",
    "$s_j = \\vec w \\cdot \\vec x$ \n",
    "\n",
    "$o_j = h_j(s_j)$\n",
    "\n",
    "Using the chain rule:\n",
    "\n",
    "$$ \\frac{\\partial o_j}{\\partial w_{ij}} = \\frac{\\partial o_j}{\\partial s_j} \\cdot \\frac{\\partial s_j}{\\partial w_{ij}}$$"
   ]
  },
  {
   "cell_type": "markdown",
   "metadata": {},
   "source": [
    "The partial derivative of first term is:\n",
    "\n",
    "$$\\frac{\\partial o_j}{\\partial s_j} = \\frac{\\partial}{\\partial s_j} h_j(s_j) = \\frac{\\partial h_j(s_j)}{\\partial s_j}$$\n",
    "\n",
    "Which is the derivative of the activation function with respect to the weighted sum.\n",
    "\n",
    "If sigmoid is the activation function.\n",
    "\n",
    "$$h(x) = \\sigma(x) = \\frac{1}{1+e^{\\text{-}x}}$$\n",
    "\n",
    "Then the derivative would be:\n",
    "\n",
    "$$ \\frac{\\partial h_j(s_j)}{\\partial s_j} = \\sigma^\\prime(s_j) = \\frac{e^{\\text{-}s_j}}{(1+e^{\\text{-}s_j})^2}$$"
   ]
  },
  {
   "cell_type": "markdown",
   "metadata": {},
   "source": [
    "For the second term $\\frac{\\partial s_j}{\\partial w_{ij}}$:\n",
    "\n",
    "Recall the weighted sum function: \n",
    "\n",
    "$s_j = \\vec w \\cdot \\vec x$ where $\\vec x$ is a vector of the inputs and $\\vec w$ is the weights associated with them.\n",
    "\n",
    "$$s_j = \\sum_{i \\in I} w_{ij} \\cdot x_i$$\n",
    "\n",
    "where $I$ is the set of all inputs connect to neuron $j$, and $w_{ij}$ is the weight associated with the connection from input $i$ to neuron $j$. \n",
    "\n",
    "Or in the case where the input is the output of the neuron that comes before it.\n",
    "\n",
    "$$s_j = \\sum_{l \\in L} w_{lj} \\cdot o_l$$\n",
    "\n",
    "Where $L$ is the set of all the neurons whose output is the input for neuron $j$, the weight $w_{lj}$ is associated with the connection from neuron $l$ to neuron $j$, and $o_l$ is the output of neuron $l$ which is also the input of neuron $j$.\n",
    "\n",
    "For a fully connected network, the set $L$ is the layer of neurons before neuron $j$."
   ]
  },
  {
   "cell_type": "markdown",
   "metadata": {},
   "source": [
    "$$\\frac{\\partial s_j}{\\partial w_{ij}} = \\frac{\\partial}{\\partial w_i} (\\vec w \\cdot \\vec x) = \\frac{\\partial}{\\partial w_{ij}} \\sum_{l \\in L} w_{lj} \\cdot o_l = \\frac{\\partial}{\\partial w_{ij}} (w_{ij} \\cdot o_i) = o_i$$\n",
    "\n",
    "So this term is just the input of neuron $j$ associated with weight $w_{ij}$, aka output of neuron $i$ ($o_i$). \n",
    "\n",
    "In the case, which neuron $j$ is in the next layer after input layer, then: \n",
    "\n",
    "$$o_i = x_i$$\n",
    "\n",
    "Since the output of input layer is the input of the network ($\\vec x = (x_1, \\dots , x_n)$)."
   ]
  },
  {
   "cell_type": "markdown",
   "metadata": {},
   "source": [
    "Putting it together:\n",
    "\n",
    "$$ \\frac{\\partial o_j}{\\partial w_{ij}} = \\frac{\\partial h_j(s_j)}{\\partial s_j} \\cdot o_i$$\n",
    "\n",
    "Which is the derivative of the activation function $h(\\cdot)$ with respect to the weighted sum ($s_j$) multiplied by the output of neuron 𝑖."
   ]
  },
  {
   "cell_type": "markdown",
   "metadata": {},
   "source": [
    "### The $\\frac{\\partial E}{\\partial o_j}$ part\n",
    "\n",
    "If neuron $j$ is in the output layer then it would be simple, $\\frac{\\partial E}{\\partial o_j}$ is the derivative of the loss function with respect to one of the output."
   ]
  },
  {
   "cell_type": "markdown",
   "metadata": {},
   "source": [
    "If the error function is mean square error (MSE):\n",
    "\n",
    "$$E = E_\\text{MSE}(\\vec{\\text{target}}, \\vec{\\text{output}}) = \\frac{1}{2n} \\sum_{i=0}^n(\\text{target}_i - \\text{output}_i)^2$$\n",
    "\n",
    "Where $\\vec t$ is the vector containing the outputs, $\\vec {o_n}$ is the vector containing network output, and n is the size of these vectors.\n",
    "\n",
    "Then the partial derivative will be:\n",
    "\n",
    "$$\\frac{\\partial E}{\\partial o_j} = \\frac{\\partial E_\\text{MSE}(\\vec t, \\vec {o_n})}{\\partial o_j} = \\frac{\\partial}{\\partial o_j} \\biggl( \\frac{1}{2n} \\sum_{i=0}^n(\\text{target}_i - \\text{output}_i)^2 \\biggr)$$\n",
    "\n",
    "Since neuron $j$ is in output layer, its output $o_j$ is in the vector $\\vec {o_n}$.\n",
    "\n",
    "$$ \\frac{\\partial}{\\partial o_j} \\biggl( \\frac{1}{2n} \\sum_{i=0}^n(\\text{target}_i - \\text{output}_i)^2 \\biggr) = \\frac{\\partial}{\\partial o_j} \\frac{1}{2n}\\cdot (t_j - o_j)^2 = \\frac{1}{n} \\cdot (o_j - t_j)$$\n"
   ]
  },
  {
   "cell_type": "markdown",
   "metadata": {},
   "source": [
    "The general form for $\\frac{\\partial E}{\\partial o_j}$ is:\n",
    "\n",
    "$$\\frac{\\partial E}{\\partial o_j} = \\frac{\\partial E(t_j, o_j)}{\\partial o_j}$$\n",
    "\n",
    "Where $o_j$ is the output of neuron $j$, and $t_j$ is the target value for neuron $j$."
   ]
  },
  {
   "cell_type": "markdown",
   "metadata": {},
   "source": [
    "However, if neuron $j$ is not in the output layer then $\\frac{\\partial E}{\\partial o_j}$ needs to be broken down with the chain rule.\n",
    "\n",
    "$$ \\frac{\\partial E}{\\partial o_j} = \\sum_{l \\in L} \\frac{\\partial E}{\\partial s_l} \\cdot \\frac{\\partial s_l}{\\partial o_j}$$\n",
    "\n",
    "Where $L$ denotes the set that contains all neurons which takes the output of neuron $j$ ($o_j$) as input.\n",
    "\n",
    "For fully connected network, the set $L$ is consist of the next layer after neuron $j$.\n",
    "\n",
    "$s_l$ are the weighted sum component of these neurons.  \n",
    "\n",
    "$$\\sum_{l \\in L} \\frac{\\partial E}{\\partial s_l} \\cdot \\frac{\\partial s_l}{\\partial o_j} = \\sum_{l \\in L} \\frac{\\partial E}{\\partial o_l} \\cdot \\frac{\\partial o_l}{\\partial s_l} \\cdot \\frac{\\partial s_l}{\\partial o_j}$$\n",
    "\n",
    "Let us break down what each term means"
   ]
  },
  {
   "cell_type": "markdown",
   "metadata": {},
   "source": [
    "The last term $\\frac{\\partial s_l}{\\partial o_j}$ is quite simple.\n",
    "\n",
    "Recall the weighted sum function: \n",
    "\n",
    "$s_l = \\vec w \\cdot \\vec x$ where $\\vec x$ is a vector of the inputs and $\\vec w$ is the weights associated with them.\n",
    "\n",
    "In this case the input is the output of the neuron that comes before it.\n",
    "\n",
    "$$s_l = \\sum_{i \\in I} w_{il} \\cdot o_i$$\n",
    "\n",
    "Where $I$ is the set of neuron that which neuron $l$ takes as input. \n",
    "\n",
    "By the way, the neuron $j$ is in set $I$. Or in mathematics expression: $I = \\{j,  \\dots\\}$.\n",
    "\n",
    "Taking the partial derivative of $s_l$ with respect to $o_j$ will be:\n",
    "\n",
    "$$\\frac{\\partial s_l}{\\partial o_j} = \\frac{\\partial}{\\partial o_j} \\sum_{i \\in I} w_{il} \\cdot o_i = \\frac{\\partial}{\\partial o_j} w_{jl} \\cdot o_j = w_{jl} $$\n",
    "\n",
    "This is just the weight between neuron $j$ and neuron $l$."
   ]
  },
  {
   "cell_type": "markdown",
   "metadata": {},
   "source": [
    "We have already seen the $\\frac{\\partial o_l}{\\partial s_l}$. \n",
    "\n",
    "It is just the derivative of the activation function. Recall we have concluded that: \n",
    "\n",
    "$$\\frac{\\partial o_j}{\\partial s_j} = \\frac{\\partial h_j(s_j)}{\\partial s_j}$$\n",
    "\n",
    "Same here:\n",
    "\n",
    "$$\\frac{\\partial o_l}{\\partial s_l} = \\frac{\\partial h_l(s_l)}{\\partial s_l}$$"
   ]
  },
  {
   "cell_type": "markdown",
   "metadata": {},
   "source": [
    "We also have seen the $\\frac{\\partial E}{\\partial o_l}$ term. Recall at the start of this section:\n",
    "\n",
    "$$ \\frac{\\partial E}{\\partial o_j} = \\sum_{l \\in L} \\frac{\\partial E}{\\partial o_l} \\cdot \\frac{\\partial o_l}{\\partial s_l} \\cdot \\frac{\\partial s_l}{\\partial o_j}$$\n",
    "\n",
    "Note the $\\frac{\\partial E}{\\partial o_j}$ and $\\frac{\\partial E}{\\partial o_l}$ just differ on which neuron the output is from.\n",
    "\n",
    "We can substitute $o_j$ for $o_l$ recursively in this formula.\n",
    "\n",
    "Therefore, the $\\frac{\\partial E}{\\partial o_l}$ term can be defined recursively."
   ]
  },
  {
   "cell_type": "markdown",
   "metadata": {},
   "source": [
    "##### Example:\n",
    "\n",
    "Say neuron $j$ is in the second last layer, we can expend out the recursion to:\n",
    "\n",
    "$$ \\frac{\\partial E}{\\partial o_j} = \\sum_{l_{n-1} \\in L_{n-1}} \\Bigl( \\sum_{l_{n} \\in L_n} \\frac{\\partial E}{\\partial o_{l_n}} \\cdot \\frac{\\partial o_{l_n}}{\\partial s_{l_n}} \\cdot \\frac{\\partial s_{l_n}}{\\partial o_j} \\Bigr) \\cdot \\frac{\\partial o_{l_{n-1}}}{\\partial s_{l_{n-1}}} \\cdot \\frac{\\partial s_{l_{n-1}}}{\\partial o_j}$$\n",
    "\n",
    "if we substitute the out the term we define in this section then:\n",
    "\n",
    "$$\\frac{\\partial E}{\\partial o_j} = \\sum_{l_{n-1} \\in L_{n-1}} \\Bigl( \\sum_{l_{n} \\in L_n} \\frac{\\partial E}{\\partial o_{l_n}} \\cdot \\frac{\\partial h_{l_n}(s_{l_n})}{\\partial s_{l_n}} \\cdot w_{jl_n} \\Bigr) \\cdot \\frac{\\partial h_{l_{n-1}}(s_{l_{n-1}})}{\\partial s_{l_{n-1}}} \\cdot w_{jl_{n-1}}$$\n",
    "\n",
    "Where $L_n$ is the set of neurons in the last layer, and $L_{n-1}$ is the set of neurons in the second last layer.\n",
    "\n",
    "As it mention at the start of this section, if neuron $j$ in $\\frac{\\partial E}{\\partial o_j}$ is the output layer then $\\frac{\\partial E}{\\partial o_j}$ is the partial derivative of the error function ($\\frac{\\partial E(t_j, o_j)}{\\partial o_j}$).\n",
    "\n",
    "$$\\frac{\\partial E}{\\partial o_{l_n}} = \\frac{\\partial E(t_j, o_j)}{\\partial o_j} \\quad \\text{if neuron $j$ is an output neuron}$$ "
   ]
  },
  {
   "cell_type": "markdown",
   "metadata": {},
   "source": [
    "Summing it up:\n",
    "\n",
    "$$ \\frac{\\partial E}{\\partial o_j} = \\begin{cases} \\frac{\\partial E(t_j, o_j)}{\\partial o_j} & \\text{if $j$ is an output neuron} \\\\ \\sum_{l \\in L} \\frac{\\partial E}{\\partial o_l} \\cdot \\frac{\\partial h_l(s_l)}{\\partial s_l} \\cdot w_{jl} & \\text{otherwise}\\end{cases}$$"
   ]
  },
  {
   "cell_type": "markdown",
   "metadata": {},
   "source": [
    "### Putting it together\n",
    "\n",
    "Now each term of the of the partial derivative is defined we can put it together. \n",
    "\n",
    "$$\\frac{\\partial E}{\\partial w_{ij}} = \\frac{\\partial E}{\\partial o_j} \\cdot \\frac{\\partial o_j}{\\partial w_{ij}}$$"
   ]
  },
  {
   "cell_type": "markdown",
   "metadata": {},
   "source": [
    "In \"the $\\frac{\\partial o_j}{\\partial w_{ij}}$ part\", we learn to expand out $\\frac{\\partial o_j}{\\partial w_{ij}}$:\n",
    "\n",
    "$$\\frac{\\partial E}{\\partial o_j} \\cdot \\frac{\\partial o_j}{\\partial w_{ij}} = \\frac{\\partial E}{\\partial o_j} \\cdot \\frac{\\partial o_j}{\\partial s_j} \\cdot \\frac{\\partial s_j}{\\partial w_i}$$"
   ]
  },
  {
   "cell_type": "markdown",
   "metadata": {},
   "source": [
    "We also learned that $\\frac{\\partial s_j}{\\partial w_i} = o_i$. Therefore:\n",
    "\n",
    "$$\\frac{\\partial E}{\\partial o_j} \\cdot \\frac{\\partial o_j}{\\partial s_j} \\cdot \\frac{\\partial s_j}{\\partial w_i} = \\frac{\\partial E}{\\partial o_j} \\cdot \\frac{\\partial o_j}{\\partial s_j} \\cdot o_i$$"
   ]
  },
  {
   "cell_type": "markdown",
   "metadata": {},
   "source": [
    "The $\\frac{\\partial o_j}{\\partial s_j}$ is the partial derivative of the activation function. So:\n",
    "\n",
    "$$\\frac{\\partial E}{\\partial o_j} \\cdot \\frac{\\partial o_j}{\\partial s_j} \\cdot o_i = \\frac{\\partial E}{\\partial o_j} \\cdot \\frac{\\partial h_j(s_j)}{\\partial s_j} \\cdot o_i$$"
   ]
  },
  {
   "cell_type": "markdown",
   "metadata": {},
   "source": [
    "Finally we learned the recursive definition of $\\frac{\\partial E}{\\partial o_j}$:\n",
    "\n",
    "$$ \\frac{\\partial E}{\\partial o_j} = \\begin{cases} \\frac{\\partial E(t_j, o_j)}{\\partial o_j} & \\text{if $j$ is an output neuron} \\\\ \\sum_{l \\in L} \\frac{\\partial E}{\\partial o_l} \\cdot \\frac{\\partial h_l(s_l)}{\\partial s_l} \\cdot w_{jl} & \\text{otherwise}\\end{cases}$$\n",
    "\n",
    "Together with:\n",
    "\n",
    "$$\\frac{\\partial E}{\\partial w_{ij}} = \\frac{\\partial E}{\\partial o_j} \\cdot \\frac{\\partial h_j(s_j)}{\\partial s_j} \\cdot o_i$$\n",
    "\n",
    "The is complete formula for partial derivative of loss with respect to any weight in the network."
   ]
  },
  {
   "cell_type": "markdown",
   "metadata": {},
   "source": [
    "### Using the shorthand $\\delta$:\n",
    "\n",
    "However, it is more common to rewrite it as with a shorthand variable $\\delta$:\n",
    "\n",
    "$$\\delta_j = \\frac{\\partial E}{\\partial o_j} \\cdot \\frac{\\partial o_j}{\\partial s_j} = \\frac{\\partial E}{\\partial o_j} \\cdot \\frac{\\partial h_j(s_j)}{\\partial s_j}$$\n",
    "\n",
    "Expanding out the $\\frac{\\partial E}{\\partial o_j}$ gives:\n",
    "\n",
    "$$ \\delta_j = \\frac{\\partial E}{\\partial o_j} \\cdot \\frac{\\partial h_j(s_j)}{\\partial s_j} = \\begin{cases} \\frac{\\partial E(t_j, o_j)}{\\partial o_j} \\cdot \\frac{\\partial h_j(s_j)}{\\partial s_j} & \\text{if $j$ is an output neuron} \\\\ \\Bigl( \\sum_{l \\in L} \\frac{\\partial E}{\\partial o_l} \\cdot \\frac{\\partial h_l(s_l)}{\\partial s_l} \\cdot w_{jl} \\Bigr) \\cdot \\frac{\\partial h_j(s_j)}{\\partial s_j} & \\text{otherwise}\\end{cases}$$\n",
    "\n",
    "By substitute of $\\delta_l = \\frac{\\partial E}{\\partial o_l} \\cdot \\frac{\\partial h_l(s_l)}{\\partial s_l}$, gives:\n",
    "\n",
    "$$\\delta_j = \\begin{cases} \\frac{\\partial E(t_j, o_j)}{\\partial o_j} \\cdot \\frac{\\partial h_j(s_j)}{\\partial s_j} & \\text{if $j$ is an output neuron} \\\\ \\bigl( \\sum_{l \\in L} \\delta_l \\cdot w_{jl} \\bigr) \\cdot \\frac{\\partial h_j(s_j)}{\\partial s_j} & \\text{otherwise}\\end{cases}$$\n",
    "\n",
    "Now the formula can be rewritten with $\\delta$:\n",
    "\n",
    "$$\\frac{\\partial E}{\\partial w_{ij}} = \\frac{\\partial E}{\\partial o_j} \\cdot \\frac{\\partial h_j(s_j)}{\\partial s_j} \\cdot o_i = \\delta_j \\cdot o_i$$"
   ]
  },
  {
   "cell_type": "markdown",
   "metadata": {},
   "source": [
    "## The backpropagation partial derivative formula\n",
    "\\begin{align}\n",
    "& \\frac{\\partial E}{\\partial w_{ij}} = \\delta_j \\cdot o_i \\\\\n",
    "& \\delta_j = \\begin{cases} \\frac{\\partial E(t_j, o_j)}{\\partial o_j} \\cdot \\frac{\\partial h_j(s_j)}{\\partial s_j} & \\text{if $j$ is an output neuron} \\\\ \\bigl( \\sum_{l \\in L} \\delta_l \\cdot w_{jl} \\bigr) \\cdot \\frac{\\partial h_j(s_j)}{\\partial s_j} & \\text{otherwise}\\end{cases}\n",
    "\\end{align}\n",
    "\n",
    "Where:\n",
    "\n",
    "$o_i$ is the output of neuron $i$\n",
    "\n",
    "$E(\\cdot)$ is the loss function\n",
    "\n",
    "$o_j$ is the output of neuron $j$\n",
    "\n",
    "$t_j$ is the target for output neuron $j$\n",
    "\n",
    "$h_j(\\cdot)$ is the activation function of neuron $j$\n",
    "\n",
    "$s_j$ is the weight sum part of neuron $j$\n",
    "\n",
    "$L$ is the set of neurons that is connected to the output of neuron $j$\n",
    "\n",
    "$w_{jl}$ is the weight of the connection from neuron $j$ to neuron $l$"
   ]
  },
  {
   "cell_type": "markdown",
   "metadata": {},
   "source": [
    "### Example:\n",
    "\n",
    "To give a feel of what the backpropagation partial derivative formula looks like when expended out, we will use an example.\n",
    "\n",
    "A small network with 1 hidden layer and 2 neurons in all the layers:\n",
    "\n",
    "![labeled_neural_network.png](img/labeled_neural_network.png)"
   ]
  },
  {
   "cell_type": "markdown",
   "metadata": {},
   "source": [
    "Let us start with the partial derivative of $w_{h2o2}$:\n",
    "\n",
    "$$\\frac{\\partial E}{\\partial w_{h2o2}} = \\delta_{o2} \\cdot o_{h2}$$\n",
    "\n",
    "with $\\delta_{o2}$ being:\n",
    "\n",
    "$$\\delta_{o2} = \\frac{\\partial E(t_{o2}, o_{o2})}{\\partial o_{o2}} \\cdot \\frac{\\partial h_{o2}(s_{o2})}{\\partial s_{o2}}$$\n",
    "\n",
    "Together:\n",
    "\n",
    "$$\\frac{\\partial E}{\\partial w_{h2o2}} = \\frac{\\partial E(t_{o2}, o_{o2})}{\\partial o_{o2}} \\cdot \\frac{\\partial h_{o2}(s_{o2})}{\\partial s_{o2}} \\cdot o_{h2}$$\n",
    "\n",
    "Each of the term:\n",
    "\n",
    "$\\frac{\\partial E(t_{o2}, o_{o2})}{\\partial o_{o2}}$ = partial derivative loss function with respect to output of neuron $o2$.\n",
    "\n",
    "$\\frac{\\partial h_{o2}(s_{o2})}{\\partial s_{o2}}$ = derivative of activation function of neuron $o2$.\n",
    "\n",
    "$o_{h2}$ = output of the neuron $h2$. Which is the input corresponding to the weight $w_{h2o2}$.\n",
    "\n",
    "One thing to note here is that we would need the output of neurons $o2$ and $h2$ to calculate $\\frac{\\partial E}{\\partial w_{h2o2}}$. To calculate $\\frac{\\partial E}{\\partial w_{h1o1}}$, we will need output of neuron $h1$ and $01$, etc.\n",
    "\n",
    "So it would be time saving if we just save the input/output of all the neurons. Rather than recalculating it every time we need it."
   ]
  },
  {
   "cell_type": "markdown",
   "metadata": {},
   "source": [
    "For $w_{i2h2}$ the partial derivative would be more complicated:\n",
    "\n",
    "$$\\frac{\\partial E}{\\partial w_{i2h2}} = \\delta_{h2} \\cdot o_{i2}$$\n",
    "\n",
    "with $\\delta_{h2}$ being:\n",
    "\n",
    "$$\\delta_{h2} = \\bigl( \\sum_{l \\in L} \\delta_l \\cdot w_{h2l} \\bigr) \\cdot \\frac{\\partial h_{h2}(s_{h2})}{\\partial s_{h2}}$$\n",
    "\n",
    "The set $L$ contains all the neurons connected to the output of neuron $h2$, therefore: $L=\\{o1, o2 \\}$\n",
    "\n",
    "Expanding it out:\n",
    "\n",
    "$$\\delta_{h2} = \\bigl( \\delta_{o1} \\cdot w_{h2o1} +  \\delta_{o2} \\cdot w_{h2o2} \\bigr) \\cdot \\frac{\\partial h_{h2}(s_{h2})}{\\partial s_{h2}}$$"
   ]
  },
  {
   "cell_type": "markdown",
   "metadata": {},
   "source": [
    "Note that we need $\\delta_{o1}$ and $\\delta_{o2}$, which is also used to calculate partial derivative of weights for neuron $o1$ and $o2$.\n",
    "\n",
    "In other words, we could calculate the partial derivative of neuron $o1$ and $o2$ first, saving the value of $\\delta_{o1}$ and $\\delta_{o2}$ then used it when calculating neuron $h1$ and $h2$.\n",
    "\n",
    "Calculating the partial derivatives from the output layer first then moving toward the input layer is what give backpropagation its name. Since we are moving backwards from the output layer first toward the input layer."
   ]
  },
  {
   "cell_type": "markdown",
   "metadata": {},
   "source": [
    "Continuing on, if we expand out the $\\delta$ then the formula becomes:\n",
    "\n",
    "\n",
    "$$\\delta_{h2} = \\Biggl( \\frac{\\partial E(t_{o1}, o_{o1})}{\\partial o_{o1}} \\cdot \\frac{\\partial h_{o1}(s_{o1})}{\\partial s_{o1}} \\cdot w_{h2o1} +  \\frac{\\partial E(t_{o2}, o_{o2})}{\\partial o_{o2}} \\cdot \\frac{\\partial h_{o2}(s_{o2})}{\\partial s_{o2}} \\cdot w_{h2o2} \\Biggr) \\cdot \\frac{\\partial h_{h2}(s_{h2})}{\\partial s_{h2}}$$\n",
    "\n",
    "And the whole thing becomes:\n",
    "\\begin{align}\n",
    "\\frac{\\partial E}{\\partial w_{i2h2}} & = \\Biggl( \\frac{\\partial E(t_{o1}, o_{o1})}{\\partial o_{o1}} \\cdot \\frac{\\partial h_{o1}(s_{o1})}{\\partial s_{o1}} \\cdot w_{h2o1} +  \\frac{\\partial E(t_{o2}, o_{o2})}{\\partial o_{o2}} \\cdot \\frac{\\partial h_{o2}(s_{o2})}{\\partial s_{o2}} \\cdot w_{h2o2} \\Biggr) \\cdot \\frac{\\partial h_{h2}(s_{h2})}{\\partial s_{h2}} \\cdot o_{i2} \\\\\n",
    "& = \\frac{\\partial E(t_{o1}, o_{o1})}{\\partial o_{o1}} \\cdot \\frac{\\partial h_{o1}(s_{o1})}{\\partial s_{o1}} \\cdot w_{h2o1} \\cdot \\frac{\\partial h_{h2}(s_{h2})}{\\partial s_{h2}} \\cdot o_{i2} +  \\frac{\\partial E(t_{o2}, o_{o2})}{\\partial o_{o2}} \\cdot \\frac{\\partial h_{o2}(s_{o2})}{\\partial s_{o2}} \\cdot w_{h2o2} \\cdot \\frac{\\partial h_{h2}(s_{h2})}{\\partial s_{h2}} \\cdot o_{i2} \n",
    "\\end{align}\n",
    "\n",
    "There are two large terms in the formula separated by a $+$ sign.\n",
    "\n",
    "Note each of the large term contains two derivatives for activation functions. \n",
    "\n",
    "This is because the neuron $h2$ is at the second last layer. The partial derivative for weights of neurons $n$ layers away from output layer would have $n + 1$ derivatives of activation function in each term in a fully connected network.\n",
    "\n",
    "This is important to remember when we learn about the vanishing gradient problem and exploding gradient problem next lesson. "
   ]
  },
  {
   "cell_type": "markdown",
   "metadata": {},
   "source": [
    "### Recap:\n",
    "\n",
    "How Backpropagation works:\n",
    "\n",
    "With a single case of training data calculate the network output.\n",
    "\n",
    "Calculate the difference of network output and target with loss function.\n",
    "\n",
    "Calculate the partial derivatives of the loss with respect to all the weights.\n",
    "\n",
    "Update each weight according to the update rule:\n",
    "\n",
    "$$\\Delta w_{ij} = - \\eta \\frac{\\partial E}{\\partial w_{ij}}$$\n",
    "\n",
    "Repeat."
   ]
  },
  {
   "cell_type": "markdown",
   "metadata": {},
   "source": [
    "## Backpropagation algorithm\n",
    "\n",
    "Backpropagation gradient calculation is consist of two phases: the forward pass, and the backward pass.\n",
    "\n",
    "During the forward pass, the input/output of the neurons are saved in a cache. It will be used when calculating the gradients during the backward pass.\n",
    "\n",
    "During the backward pass, the partial derivatives of each weight are calculated starting from neurons in the output layer and working backwards. While computing the partial derivatives, the $\\delta$ are saved. "
   ]
  },
  {
   "cell_type": "markdown",
   "metadata": {},
   "source": [
    "Full algorithm:\n",
    "\n",
    "With a neural network, a loss function, an input vector, and a target vector:\n",
    "\n",
    "1. Compute the network output from the neural network and input vector. Store the output of each neuron in a cache.\n",
    "\n",
    "2. Calculate the partial derivatives of loss with respect to each weight connected to the output neurons, using variables in the cache. Store the $\\delta$ of output neurons in the cache.\n",
    "\n",
    "3. Calculate the partial derivatives of loss with respect to each weight connected to the neurons of the next layer closer to input layer, using variables in the cache. Store the $\\delta$ of these neurons in the cache.\n",
    "\n",
    "4. Repeat step 3 until all partial derivatives are calculated.\n",
    "\n",
    "5. Use the update rule to update all the weights."
   ]
  },
  {
   "cell_type": "markdown",
   "metadata": {},
   "source": [
    "## Implementation\n",
    "\n",
    "We will use the same dataset as the last lesson.\n",
    "\n",
    "Dataset: Iris flower classification dataset"
   ]
  },
  {
   "cell_type": "markdown",
   "metadata": {},
   "source": [
    "### Load the dataset"
   ]
  },
  {
   "cell_type": "code",
   "execution_count": 1,
   "metadata": {},
   "outputs": [],
   "source": [
    "import os\n",
    "\n",
    "import numpy as np\n",
    "import pandas as pd"
   ]
  },
  {
   "cell_type": "code",
   "execution_count": 2,
   "metadata": {},
   "outputs": [],
   "source": [
    "data_path = os.path.join('data', 'iris.data')\n",
    "dataset = pd.read_csv(data_path, names=['sepal length (cm)', 'sepal width (cm)', 'petal length (cm)', 'petal width (cm)', 'class'])"
   ]
  },
  {
   "cell_type": "markdown",
   "metadata": {},
   "source": [
    "Here is what some of the data look like:"
   ]
  },
  {
   "cell_type": "code",
   "execution_count": 3,
   "metadata": {},
   "outputs": [
    {
     "data": {
      "text/html": [
       "<div>\n",
       "<style scoped>\n",
       "    .dataframe tbody tr th:only-of-type {\n",
       "        vertical-align: middle;\n",
       "    }\n",
       "\n",
       "    .dataframe tbody tr th {\n",
       "        vertical-align: top;\n",
       "    }\n",
       "\n",
       "    .dataframe thead th {\n",
       "        text-align: right;\n",
       "    }\n",
       "</style>\n",
       "<table border=\"1\" class=\"dataframe\">\n",
       "  <thead>\n",
       "    <tr style=\"text-align: right;\">\n",
       "      <th></th>\n",
       "      <th>sepal length (cm)</th>\n",
       "      <th>sepal width (cm)</th>\n",
       "      <th>petal length (cm)</th>\n",
       "      <th>petal width (cm)</th>\n",
       "      <th>class</th>\n",
       "    </tr>\n",
       "  </thead>\n",
       "  <tbody>\n",
       "    <tr>\n",
       "      <th>99</th>\n",
       "      <td>5.7</td>\n",
       "      <td>2.8</td>\n",
       "      <td>4.1</td>\n",
       "      <td>1.3</td>\n",
       "      <td>Iris-versicolor</td>\n",
       "    </tr>\n",
       "    <tr>\n",
       "      <th>100</th>\n",
       "      <td>6.3</td>\n",
       "      <td>3.3</td>\n",
       "      <td>6.0</td>\n",
       "      <td>2.5</td>\n",
       "      <td>Iris-virginica</td>\n",
       "    </tr>\n",
       "  </tbody>\n",
       "</table>\n",
       "</div>"
      ],
      "text/plain": [
       "     sepal length (cm)  sepal width (cm)  petal length (cm)  petal width (cm)  \\\n",
       "99                 5.7               2.8                4.1               1.3   \n",
       "100                6.3               3.3                6.0               2.5   \n",
       "\n",
       "               class  \n",
       "99   Iris-versicolor  \n",
       "100   Iris-virginica  "
      ]
     },
     "execution_count": 3,
     "metadata": {},
     "output_type": "execute_result"
    }
   ],
   "source": [
    "dataset[99:101]"
   ]
  },
  {
   "cell_type": "markdown",
   "metadata": {},
   "source": [
    "The \"class\" column is the type of flower.\n",
    "\n",
    "The other four column are the length and width of sepal and petal, these are the four features given in the dataset."
   ]
  },
  {
   "cell_type": "markdown",
   "metadata": {},
   "source": [
    "Out of the 4 features given we are only going to use the petal length and petal width.\n",
    "\n",
    "And we will only be classifying two type of flowers (Iris-setosa and Iris-versicolor)."
   ]
  },
  {
   "cell_type": "markdown",
   "metadata": {},
   "source": [
    "The goal of our network is to determine which class a data point belongs to.\n",
    "\n",
    "Given set of petal length and petal width, the network would output the class of the flower."
   ]
  },
  {
   "cell_type": "markdown",
   "metadata": {},
   "source": [
    "So our training data should be input and target pairs:"
   ]
  },
  {
   "cell_type": "code",
   "execution_count": 4,
   "metadata": {},
   "outputs": [],
   "source": [
    "training = {}\n",
    "training['input'] = dataset.loc[:99, ['petal length (cm)', 'petal width (cm)']].to_numpy(dtype=np.float_)"
   ]
  },
  {
   "cell_type": "markdown",
   "metadata": {},
   "source": [
    "A input vector would look like:"
   ]
  },
  {
   "cell_type": "code",
   "execution_count": 5,
   "metadata": {},
   "outputs": [
    {
     "data": {
      "text/plain": [
       "array([4.7, 1.4])"
      ]
     },
     "execution_count": 5,
     "metadata": {},
     "output_type": "execute_result"
    }
   ],
   "source": [
    "training['input'][50]"
   ]
  },
  {
   "cell_type": "markdown",
   "metadata": {},
   "source": [
    "Now we need to convert the class to an array.\n",
    "\n",
    "Each element of array represents a type of flower. The element corresponding to the correct class would be 1, and other will have a value of 0.\n",
    "\n",
    "For example, \"Iris-setosa\" be may represented with $(1, 0, 0)$.\n",
    "\n",
    "However, we are only using two classes so it would be $(1, 0)$.\n",
    "\n",
    "This type of representation is called one-hot vector."
   ]
  },
  {
   "cell_type": "code",
   "execution_count": 6,
   "metadata": {},
   "outputs": [],
   "source": [
    "to_class = {0: \"Iris-setosa\", 1: \"Iris-versicolor\"}\n",
    "to_index = {\"Iris-setosa\": 0, \"Iris-versicolor\": 1}\n",
    "\n",
    "def to_one_hot(num_class, indexes):\n",
    "    \"\"\"Outputs a matrix of one hot vectors.\"\"\"\n",
    "    # Create vectors of zeros.\n",
    "    n = len(indexes)\n",
    "    one_hot = np.zeros((n, num_class), dtype=np.float_)\n",
    "    # Set correct class to 1.\n",
    "    one_hot[np.arange(n), indexes] = 1\n",
    "    return one_hot"
   ]
  },
  {
   "cell_type": "code",
   "execution_count": 7,
   "metadata": {},
   "outputs": [],
   "source": [
    "training['target'] = to_one_hot(2, [to_index[t] for t in dataset.loc[:99, 'class']])"
   ]
  },
  {
   "cell_type": "markdown",
   "metadata": {},
   "source": [
    "A target vector would look like:"
   ]
  },
  {
   "cell_type": "code",
   "execution_count": 8,
   "metadata": {},
   "outputs": [
    {
     "data": {
      "text/plain": [
       "array([0., 1.])"
      ]
     },
     "execution_count": 8,
     "metadata": {},
     "output_type": "execute_result"
    }
   ],
   "source": [
    "training['target'][50]"
   ]
  },
  {
   "cell_type": "markdown",
   "metadata": {},
   "source": [
    "What we are hoping is the network would learn a decision boundary like the following:"
   ]
  },
  {
   "cell_type": "code",
   "execution_count": 9,
   "metadata": {},
   "outputs": [],
   "source": [
    "import matplotlib.pyplot as plt\n",
    "import seaborn as sns"
   ]
  },
  {
   "cell_type": "code",
   "execution_count": 10,
   "metadata": {},
   "outputs": [
    {
     "data": {
      "image/png": "[encoded data removed]",
      "text/plain": [
       "<Figure size 463.5x360 with 1 Axes>"
      ]
     },
     "metadata": {
      "needs_background": "light"
     },
     "output_type": "display_data"
    }
   ],
   "source": [
    "sns.relplot(x='petal length (cm)', y='petal width (cm)', hue='class', data=dataset.loc[:99])\n",
    "plt.plot([5, 0], [0, 1.4], 'r', linewidth=2)\n",
    "plt.show()"
   ]
  },
  {
   "cell_type": "markdown",
   "metadata": {},
   "source": [
    "It is best to shuffle the data before training."
   ]
  },
  {
   "cell_type": "code",
   "execution_count": 11,
   "metadata": {},
   "outputs": [],
   "source": [
    "from sklearn.utils import shuffle"
   ]
  },
  {
   "cell_type": "code",
   "execution_count": 12,
   "metadata": {},
   "outputs": [],
   "source": [
    "training['input'], training['target'] = shuffle(training['input'], training['target'])"
   ]
  },
  {
   "cell_type": "markdown",
   "metadata": {},
   "source": [
    "### Implementing the network\n",
    "\n",
    "We will be implementing a fully connected feed forward network.\n",
    "\n",
    "Unlike the formula above, the implementation will be processing a layer at once.\n",
    "\n",
    "E.g,. calculating neurons output of a layer at once in matrix dot product, calculating loss and partial derivatives of loss at once using vectors operations, etc.\n",
    "\n",
    "In other words, to increase performance the implementation will take a vector of inputs, process them in vector form and outputs vectors of results.\n",
    "\n",
    "This is done with numpy arrays."
   ]
  },
  {
   "cell_type": "code",
   "execution_count": 13,
   "metadata": {},
   "outputs": [],
   "source": [
    "import numpy as np"
   ]
  },
  {
   "cell_type": "markdown",
   "metadata": {},
   "source": [
    "Let us start with implementing an activation function and loss function:"
   ]
  },
  {
   "cell_type": "markdown",
   "metadata": {},
   "source": [
    "Implementation of sigmoid activation function, and its derivative.\n",
    "\n",
    "$$\\sigma(x) = \\frac{1}{1+e^{\\text{-}x}}$$\n",
    "\n",
    "$$\\sigma^\\prime(x) = \\frac{e^{\\text{-}x}}{(1+e^{\\text{-}x})^2}$$"
   ]
  },
  {
   "cell_type": "code",
   "execution_count": 14,
   "metadata": {},
   "outputs": [],
   "source": [
    "class Sigmoid:\n",
    "    \n",
    "    @staticmethod\n",
    "    def forward(x):\n",
    "        return 1 / (1 + np.exp(-x))\n",
    "    \n",
    "    @staticmethod\n",
    "    def backward(x):\n",
    "        return np.exp(-x) / (1 + np.exp(-x)) ** 2"
   ]
  },
  {
   "cell_type": "markdown",
   "metadata": {},
   "source": [
    "The `forward` function is the vector version of sigmoid activation function.\n",
    "\n",
    "The `backward` function is the vector version of sigmoid derivative function."
   ]
  },
  {
   "cell_type": "code",
   "execution_count": 15,
   "metadata": {},
   "outputs": [
    {
     "data": {
      "text/plain": [
       "array([0.21416502, 0.42555748, 0.95689275, 0.9168273 ])"
      ]
     },
     "execution_count": 15,
     "metadata": {},
     "output_type": "execute_result"
    }
   ],
   "source": [
    "Sigmoid.forward(np.array([-1.3, -0.3, 3.1, 2.4]))"
   ]
  },
  {
   "cell_type": "code",
   "execution_count": 16,
   "metadata": {},
   "outputs": [
    {
     "data": {
      "text/plain": [
       "array([0.16829836, 0.24445831, 0.04124902, 0.076255  ])"
      ]
     },
     "execution_count": 16,
     "metadata": {},
     "output_type": "execute_result"
    }
   ],
   "source": [
    "Sigmoid.backward(np.array([-1.3, -0.3, 3.1, 2.4]))"
   ]
  },
  {
   "cell_type": "markdown",
   "metadata": {},
   "source": [
    "Normally, sigmoid takes in one input scalar and output one scalar. Here the implementation works on vectors."
   ]
  },
  {
   "cell_type": "markdown",
   "metadata": {},
   "source": [
    "### Loss function for classification\n",
    "\n",
    "Cross entropy loss is the most popular classification loss.\n",
    "\n",
    "$$E_{CEL}(\\vec x, \\vec t) = - \\sum_i t_i \\cdot \\text{log}(x_i)$$\n",
    "\n",
    "Where $\\vec x$ is a vector of output probability and $\\vec t$ is the vector of target probability.\n",
    "\n",
    "For performance, many implementations require the target to be in one-hot vectors."
   ]
  },
  {
   "cell_type": "markdown",
   "metadata": {},
   "source": [
    "Since the output need to be in probability form, we can use the softmax function to convert network output to probability.\n",
    "\n",
    "$$\\text{Softmax}(\\vec x) = \\frac{e^{\\vec x}}{\\sum_{x_i \\in \\vec x}e^{x_i}}$$\n",
    "\n",
    "There the vector $e^{\\vec x}$ is being element-wise divided by the scalar $\\sum_{x_i \\in \\vec x}e^{x_i}$."
   ]
  },
  {
   "cell_type": "code",
   "execution_count": 17,
   "metadata": {},
   "outputs": [],
   "source": [
    "def softmax(x):\n",
    "    return np.exp(x) / np.sum(np.exp(x))\n",
    "\n",
    "\n",
    "class CrossEntropyLoss:\n",
    "    \n",
    "    @staticmethod\n",
    "    def forward(x, t):\n",
    "        x = softmax(x)\n",
    "        return -np.log(x) @ t\n",
    "        \n",
    "    @staticmethod\n",
    "    def backward(x, t):\n",
    "        x = softmax(x)\n",
    "        return x - t"
   ]
  },
  {
   "cell_type": "markdown",
   "metadata": {},
   "source": [
    "The `forward` function is the cross entropy loss with softmax assuming one-hot targets.\n",
    "\n",
    "The `backward` function is the derivative of cross entropy loss with softmax assuming one-hot targets."
   ]
  },
  {
   "cell_type": "markdown",
   "metadata": {},
   "source": [
    "### Simple network implementation\n",
    "\n",
    "This is a simple fully connected feed forward neural network implementation.\n",
    "\n",
    "The same activation function is used in all the neurons."
   ]
  },
  {
   "cell_type": "code",
   "execution_count": 18,
   "metadata": {},
   "outputs": [],
   "source": [
    "def network(inputs, weights, activation_fn):\n",
    "    x = inputs\n",
    "    for w in weights:\n",
    "        x = activation_fn.forward(x @ w)\n",
    "    return x"
   ]
  },
  {
   "cell_type": "markdown",
   "metadata": {},
   "source": [
    "This is the implementation of backpropagation for the network.\n",
    "\n",
    "Recall the formula:\n",
    "\n",
    "\\begin{align}\n",
    "& \\frac{\\partial E}{\\partial w_{ij}} = \\delta_j \\cdot o_i \\\\\n",
    "& \\delta_j = \\begin{cases} \\frac{\\partial E(t_j, o_j)}{\\partial o_j} \\cdot \\frac{\\partial h_j(s_j)}{\\partial s_j} & \\text{if $j$ is an output neuron} \\\\ \\bigl( \\sum_{l \\in L} \\delta_l \\cdot w_{jl} \\bigr) \\cdot \\frac{\\partial h_j(s_j)}{\\partial s_j} & \\text{otherwise}\\end{cases}\n",
    "\\end{align}"
   ]
  },
  {
   "cell_type": "code",
   "execution_count": 19,
   "metadata": {},
   "outputs": [],
   "source": [
    "def backpropagation(inputs, targets, weights, activation_fn, loss_fn, learning_rate):\n",
    "    \"\"\"\n",
    "    Backpropagation for a fully connected feed forward network.\n",
    "    \n",
    "    :param inputs: A vector of network input\n",
    "    :param targets: A vector of the target for network output\n",
    "    :param weights: A list of layer weight matrix\n",
    "    :param activation_fn: The activation function to use\n",
    "    :param loss_fn: The loss function to use\n",
    "    :param learning_rate: The learning rate for update rule\n",
    "    :returns: A list of updated layer weight matrix\n",
    "    \"\"\"\n",
    "    \n",
    "    # Rename variable to better match the formula\n",
    "    x = inputs\n",
    "    t = targets\n",
    "    h = activation_fn\n",
    "    loss = loss_fn\n",
    "    \n",
    "    n = len(weights)  # Number of hidden and ouput layer(s)\n",
    "    params = {'w': weights}\n",
    "    grads = {'w': [None] * n}\n",
    "    cache = {'input': [None] * n, 'delta': [None] * n}\n",
    "    \n",
    "    # Forward pass\n",
    "    for i in range(n):\n",
    "        w = params['w'][i]\n",
    "        cache['input'][i] = x  # Save layer inputs\n",
    "        s = x @ w\n",
    "        x = h.forward(s)\n",
    "\n",
    "    output = x  # Network output\n",
    "    \n",
    "    # Backward pass\n",
    "    for i in range(n):\n",
    "        # Start from last layer\n",
    "        layer = (n - 1) - i  # Index of current layer\n",
    "        o_i = cache['input'][layer]  # Input of current layer / Output of previous layer\n",
    "        w_j = params['w'][layer]  # Weight of current layer\n",
    "        s_j_der = h.backward(o_i @ w_j)\n",
    "        \n",
    "        if layer == (n - 1):  # If last layer\n",
    "            delta_j = loss.backward(output, t) * s_j_der\n",
    "        else:\n",
    "            delta_l = cache['delta'][layer + 1]  # Delta of next layer\n",
    "            w_l = params['w'][layer + 1]  # Weight of next layer\n",
    "            delta_j = w_l @ delta_l * s_j_der\n",
    "            \n",
    "        grads['w'][layer] = np.outer(o_i, delta_j)\n",
    "        cache['delta'][layer] = delta_j\n",
    "    \n",
    "    # Update parameters\n",
    "    for i in range(n):\n",
    "        params['w'][i] -= learning_rate * grads['w'][i]\n",
    "    \n",
    "    return output"
   ]
  },
  {
   "cell_type": "markdown",
   "metadata": {},
   "source": [
    "Using the above implementation, we will create a network with: input layer of 2 units, a single hidden layer of 4 units, output layer of 2 units.\n",
    "\n",
    "The activation function for all the neurons is sigmoid and the loss function is cross entropy loss."
   ]
  },
  {
   "cell_type": "markdown",
   "metadata": {},
   "source": [
    "First, let see how well a network will random weight can predict the data."
   ]
  },
  {
   "cell_type": "code",
   "execution_count": 20,
   "metadata": {},
   "outputs": [
    {
     "name": "stdout",
     "output_type": "stream",
     "text": [
      "Network accuracy: 50.0%\n"
     ]
    }
   ],
   "source": [
    "# Weights for the input layer, hidden layers, and output layers.\n",
    "weights = [np.random.randn(2, 4), np.random.randn(4, 2)]\n",
    "# Test the network:\n",
    "correct_count = 0\n",
    "total_count = 0\n",
    "for inputs, targets in zip(training['input'], training['target']):\n",
    "    outputs = network(inputs, weights, Sigmoid)\n",
    "    \n",
    "    total_count += 1\n",
    "    if np.argmax(outputs) == np.argmax(targets):\n",
    "        correct_count += 1\n",
    "\n",
    "accu = correct_count / total_count\n",
    "\n",
    "print(f\"Network accuracy: {accu * 100}%\")"
   ]
  },
  {
   "cell_type": "markdown",
   "metadata": {},
   "source": [
    "As expected the accuracy is not very high. At around 50%, the network performs as well as random guesses."
   ]
  },
  {
   "cell_type": "markdown",
   "metadata": {},
   "source": [
    "Now we will train the network with the training data.\n",
    "\n",
    "We did not learn about when to stop the training yet. We will stop the training after a fix number of iterations for now."
   ]
  },
  {
   "cell_type": "code",
   "execution_count": 79,
   "metadata": {},
   "outputs": [
    {
     "name": "stdout",
     "output_type": "stream",
     "text": [
      "At    10 epoch, mean loss of 10 epoch: 69.02026085753617\n",
      "At    20 epoch, mean loss of 10 epoch: 66.50513172885509\n",
      "At    30 epoch, mean loss of 10 epoch: 61.922925339851645\n",
      "At    40 epoch, mean loss of 10 epoch: 56.445128531079305\n",
      "At    50 epoch, mean loss of 10 epoch: 50.87498130849378\n",
      "At    60 epoch, mean loss of 10 epoch: 46.382373547445304\n",
      "At    70 epoch, mean loss of 10 epoch: 43.33148947752215\n",
      "At    80 epoch, mean loss of 10 epoch: 41.36343649376842\n",
      "At    90 epoch, mean loss of 10 epoch: 40.06364224312124\n",
      "At   100 epoch, mean loss of 10 epoch: 39.163992864283706\n"
     ]
    }
   ],
   "source": [
    "# Weights for the input layer, hidden layers, and output layers.\n",
    "weights = [np.random.rand(2, 4), np.random.rand(4, 2)]\n",
    "\n",
    "learning_rate = 0.1\n",
    "\n",
    "epoch = 100  # How many time to train the network with the whole training data.\n",
    "num_e = 10  # Print info every num_e epoch\n",
    "training_loss = 0\n",
    "\n",
    "for e in range(epoch):\n",
    "    for inputs, targets in zip(training['input'], training['target']):        \n",
    "        outputs = backpropagation(inputs, targets, weights, Sigmoid, CrossEntropyLoss, learning_rate)\n",
    "\n",
    "        training_loss += CrossEntropyLoss.forward(outputs, targets) / num_e\n",
    "\n",
    "    # Print training info every set amount of epoch\n",
    "    if not (e + 1) % num_e:\n",
    "        print(f\"At {e + 1: 5} epoch, mean loss of {num_e} epoch: {training_loss}\")\n",
    "        training_loss = 0"
   ]
  },
  {
   "cell_type": "markdown",
   "metadata": {},
   "source": [
    "We often print out the loss during training to see if the training is going well.\n",
    "The loss should be decreasing during training. Once the loss stops decreasing, the training is complete."
   ]
  },
  {
   "cell_type": "markdown",
   "metadata": {},
   "source": [
    "Let us test the trained network on the training data."
   ]
  },
  {
   "cell_type": "code",
   "execution_count": 80,
   "metadata": {},
   "outputs": [
    {
     "name": "stdout",
     "output_type": "stream",
     "text": [
      "Network accuracy: 98.0%\n"
     ]
    }
   ],
   "source": [
    "# Test the network:\n",
    "correct_count = 0\n",
    "total_count = 0\n",
    "for inputs, targets in zip(training['input'], training['target']):\n",
    "    outputs = network(inputs, weights, Sigmoid)\n",
    "\n",
    "    total_count += 1\n",
    "    if np.argmax(outputs) == np.argmax(targets):\n",
    "        correct_count += 1\n",
    "\n",
    "accu = correct_count / total_count\n",
    "\n",
    "print(f\"Network accuracy: {accu * 100}%\")"
   ]
  },
  {
   "cell_type": "markdown",
   "metadata": {},
   "source": [
    "Since we are not performing model selection, there are some chance that the accuracy is low. If encounter retrain the model.\n",
    "\n",
    "Else, the accuracy should be very high. In fact, it is probably overfitting, since we are testing on the training data.\n",
    "\n",
    "Regardless, this shows the network is learning from the training data."
   ]
  },
  {
   "cell_type": "markdown",
   "metadata": {},
   "source": [
    "To examine the test of a single case:"
   ]
  },
  {
   "cell_type": "code",
   "execution_count": 23,
   "metadata": {},
   "outputs": [
    {
     "name": "stdout",
     "output_type": "stream",
     "text": [
      "The network prediction:\tIris-versicolor\n",
      "The correct answer:\tIris-versicolor\n"
     ]
    }
   ],
   "source": [
    "# Test a single case (0 to 99)\n",
    "i = 99\n",
    "\n",
    "inputs = training['input'][i]\n",
    "outputs = network(inputs, weights, Sigmoid)\n",
    "output_label = to_class[np.argmax(outputs)]\n",
    "\n",
    "targets = training['target'][i]\n",
    "target_label = to_class[np.argmax(targets)]\n",
    "\n",
    "print(f\"The network prediction:\\t{output_label}\\nThe correct answer:\\t{target_label}\")"
   ]
  },
  {
   "cell_type": "markdown",
   "metadata": {},
   "source": [
    "### Adding  bias terms\n",
    "\n",
    "While in the deriving the backpropagation formula, we focus on the tuning the weights. However, backpropagation can used to tune any parameter in the network.\n",
    "\n",
    "A common tunable parameter is the bias.\n",
    "\n",
    "Recall the bias term is added to the weighted sum of a neuron.\n",
    "\n",
    "$s_j = \\bigl( \\sum_{i \\in I} w_{ij} \\cdot x_i \\bigr) + b_j$\n",
    "\n",
    "where the set $I$ is all of the inputs for neuron $j$, and $w_{ij}$ is the weight associated with the connection from input $i$ to neuron $j$. \n",
    "\n",
    "The full neuron formula becomes:\n",
    "\n",
    "$o_j = h_j\\Bigl(\\bigl( \\sum_{i \\in I} w_{ij} \\cdot x_i \\bigr) + b_j \\Bigr)$"
   ]
  },
  {
   "cell_type": "markdown",
   "metadata": {},
   "source": [
    "Just like tuning weights, the update rule for bias is the same:\n",
    "\n",
    "$$\\Delta \\vec b = - \\eta \\nabla E$$\n",
    "\n",
    "Where $\\vec b$ is the vector of all the bias in the network, $\\eta$ is a learning rate, $E$ is the loss.\n",
    "\n",
    "or for a single bias:\n",
    "\n",
    "$$\\Delta b_{i} = - \\eta \\frac{\\partial E}{\\partial b_{i}}$$\n"
   ]
  },
  {
   "cell_type": "markdown",
   "metadata": {},
   "source": [
    "Just like for partial derivatives for weights, the chain rule is used.\n",
    "\n",
    "\\begin{align}\n",
    "\\frac{\\partial E}{\\partial b_j} &= \\frac{\\partial E}{\\partial o_j} \\cdot \\frac{\\partial h_j(s_j)}{\\partial s_j} \\cdot \\frac{\\partial s_j}{\\partial b_j} \\\\\n",
    "&=\\delta_j \\cdot \\frac{\\partial s_j}{\\partial b_j}\n",
    "\\end{align}"
   ]
  },
  {
   "cell_type": "markdown",
   "metadata": {},
   "source": [
    "The $\\frac{\\partial s_j}{\\partial b_j}$ term is:\n",
    "$$ \\frac{\\partial s_j}{\\partial b_j} = \\frac{\\partial}{\\partial b_j} \\bigl( \\sum_{i \\in I} w_{ij} \\cdot x_i \\bigr) + b_j = \\frac{\\partial}{\\partial b_j} b_j = 1$$\n",
    "\n",
    "Therefore:\n",
    "\n",
    "$$\\frac{\\partial E}{\\partial b_j} = \\delta_j \\cdot 1 = \\delta_j$$"
   ]
  },
  {
   "cell_type": "markdown",
   "metadata": {},
   "source": [
    "The whole formula becomes:\n",
    "\n",
    "$$\\frac{\\partial E}{\\partial b_j} = \\delta_j = \\begin{cases} \\frac{\\partial E(t_j, o_j)}{\\partial o_j} \\cdot \\frac{\\partial h_j(s_j)}{\\partial s_j} & \\text{if $j$ is an output neuron} \\\\ \\bigl( \\sum_{l \\in L} \\delta_l \\cdot w_{jl} \\bigr) \\cdot \\frac{\\partial h_j(s_j)}{\\partial s_j} & \\text{otherwise}\\end{cases}$$"
   ]
  },
  {
   "cell_type": "markdown",
   "metadata": {},
   "source": [
    "## Practice "
   ]
  },
  {
   "cell_type": "markdown",
   "metadata": {},
   "source": [
    "### Exercise 1\n",
    "\n",
    "Modify the network function to include bias term."
   ]
  },
  {
   "cell_type": "code",
   "execution_count": 24,
   "metadata": {},
   "outputs": [],
   "source": [
    "# code here"
   ]
  },
  {
   "cell_type": "markdown",
   "metadata": {},
   "source": [
    "### Exercise 2\n",
    "\n",
    "Modify the backpropagation function to include bias term."
   ]
  },
  {
   "cell_type": "code",
   "execution_count": 25,
   "metadata": {},
   "outputs": [],
   "source": [
    "# code here"
   ]
  },
  {
   "cell_type": "markdown",
   "metadata": {},
   "source": [
    "Note that the same network with bias term with Sigmoid activation function may be more unstable and requires good learning rate adjustment for each parameter to produce consistent good result."
   ]
  },
  {
   "cell_type": "markdown",
   "metadata": {},
   "source": [
    "### Exercise 3\n",
    "\n",
    "Train the network with bias term.\n",
    "\n",
    "Same network structure and training data.\n",
    "\n",
    "Network: input layer 2 units, one hidden layer 10 units, output layer 2 units.\n",
    "\n",
    "Initialize biases to 0.\n",
    "\n",
    "Learning rate: 0.1\n",
    "\n",
    "Epoch: 100\n",
    "\n",
    "Use the ReLU activation function as implemented below:"
   ]
  },
  {
   "cell_type": "code",
   "execution_count": 26,
   "metadata": {},
   "outputs": [],
   "source": [
    "class ReLU:\n",
    "    \n",
    "    @staticmethod\n",
    "    def forward(x):\n",
    "        return np.maximum(0, x)\n",
    "    \n",
    "    @staticmethod\n",
    "    def backward(x):\n",
    "        x[x <= 0] = 0\n",
    "        x[x > 0] = 1\n",
    "        return x"
   ]
  },
  {
   "cell_type": "code",
   "execution_count": 27,
   "metadata": {},
   "outputs": [],
   "source": [
    "# code here"
   ]
  },
  {
   "cell_type": "markdown",
   "metadata": {},
   "source": [
    "### Exercise 4\n",
    "\n",
    "Test the network. The accuracy may be lower than without bias. That is fine."
   ]
  },
  {
   "cell_type": "code",
   "execution_count": 28,
   "metadata": {},
   "outputs": [],
   "source": [
    "# code here"
   ]
  },
  {
   "cell_type": "markdown",
   "metadata": {},
   "source": [
    "### The functions used in the network must be differentiable\n",
    "\n",
    "Note that the partial derivative formula for backpropagation implies that both the loss function $E(\\cdot)$ and all the activation functions $h_j(\\cdot)$ need to be differentiable. Meaning they must have a derivative.\n",
    "\n",
    "Technically, it is possible to just have a defined derivative for each value in input space."
   ]
  },
  {
   "cell_type": "markdown",
   "metadata": {},
   "source": [
    "For example, a version of ReLU (Rectified Linear Unit):\n",
    "\n",
    "$$\\text{ReLU}(x) = \\text{max}(0, x)$$\n",
    "\n",
    "Which looks like:"
   ]
  },
  {
   "cell_type": "code",
   "execution_count": 29,
   "metadata": {},
   "outputs": [],
   "source": [
    "def relu(x):\n",
    "    return np.maximum(0, x)"
   ]
  },
  {
   "cell_type": "code",
   "execution_count": 30,
   "metadata": {},
   "outputs": [
    {
     "data": {
      "image/png": "[encoded data removed]",
      "text/plain": [
       "<Figure size 432x288 with 1 Axes>"
      ]
     },
     "metadata": {
      "needs_background": "light"
     },
     "output_type": "display_data"
    }
   ],
   "source": [
    "x = np.linspace(-5, 5, 3)  # We only need 3 points to draw ReLU\n",
    "y = relu(x)\n",
    "\n",
    "plt.plot(x, y)\n",
    "plt.show()"
   ]
  },
  {
   "cell_type": "markdown",
   "metadata": {},
   "source": [
    "For ReLU function, there is no derivative at $x=0$ defined by calculus.\n",
    "\n",
    "\n",
    "However, we can just define a value for it. Usually the derivative of ReLU is defined as:\n",
    "\n",
    "$$\\text{ReLU}^ \\prime (x) = \\begin{cases}0 & x \\le 0 \\\\1 & x \\gt 0\\end{cases}$$\n",
    "\n",
    "So at $x=0$ the derivative is defined to be $0$."
   ]
  },
  {
   "cell_type": "markdown",
   "metadata": {},
   "source": [
    "## Training neural networks\n",
    "\n",
    "Training complex networks can be difficult. There are massive improvements to be made to our implementation.\n",
    "\n",
    "The update rule we implement is the original gradient descent, which can be massively improved. No learning rate schedule was used either.\n",
    "\n",
    "The implementation of our function does not consider numerical stability. For example, our softmax function is not  numerical stable.\n",
    "\n",
    "There can be better choice of activation functions. Since sigmoid activation have vanishing gradient problem in large networks.\n",
    "\n",
    "We did not perform model selection using validation data.\n",
    "\n",
    "In the next lesson, we will about about common problems and best practice for training neural networks."
   ]
  },
  {
   "cell_type": "markdown",
   "metadata": {},
   "source": [
    "## Extra:\n",
    "\n",
    "Here is a website that lets you play around with the training of a neural network. To see how different setting affects the training and result.\n",
    "\n",
    "http://playground.tensorflow.org"
   ]
  },
  {
   "cell_type": "markdown",
   "metadata": {},
   "source": [
    "## Solutions:"
   ]
  },
  {
   "cell_type": "code",
   "execution_count": 31,
   "metadata": {},
   "outputs": [],
   "source": [
    "# Solution to exercise 1\n",
    "\n",
    "def network_bias(inputs, weights, biases, activation_fn):\n",
    "    x = inputs\n",
    "    for w, b in zip(weights, biases):\n",
    "        x = activation_fn.forward((x @ w) + b)\n",
    "    return x"
   ]
  },
  {
   "cell_type": "code",
   "execution_count": 32,
   "metadata": {},
   "outputs": [],
   "source": [
    "# Solution to exercise 2\n",
    "\n",
    "def backpropagation_bias(inputs, targets, weights, biases, activation_fn, loss_fn, learning_rate):\n",
    "    \"\"\"\n",
    "    Backpropagation for a fully connected feed forward network with bias.\n",
    "    \n",
    "    :param inputs: A vector of network input\n",
    "    :param targets: A vector of the target for network output\n",
    "    :param weights: A list of layer weight matrix\n",
    "    :param biases: A list of layer bias vector\n",
    "    :param activation_fn: The activation function to use\n",
    "    :param loss_fn: The loss function to use\n",
    "    :param learning_rate: The learning rate for update rule\n",
    "    :returns: A list of updated layer weight matrix and bias vector\n",
    "    \"\"\"\n",
    "    \n",
    "    # Rename variable to better match the formula\n",
    "    x = inputs\n",
    "    t = targets\n",
    "    h = activation_fn\n",
    "    loss = loss_fn\n",
    "    \n",
    "    n = len(weights)  # Number of hidden and ouput layer(s)\n",
    "    params = {'w': weights, 'b': biases}\n",
    "    grads = {'w': [None] * n, 'b': biases}\n",
    "    cache = {'input': [None] * n, 'delta': [None] * n}\n",
    "    \n",
    "    # Forward pass\n",
    "    for i in range(n):\n",
    "        w = params['w'][i]\n",
    "        b = params['b'][i]\n",
    "        cache['input'][i] = x  # Save layer inputs\n",
    "        s = x @ w + b\n",
    "        x = h.forward(s)\n",
    "\n",
    "    output = x  # Network output\n",
    "    \n",
    "    # Backward pass\n",
    "    for i in range(n):\n",
    "        # Start from last layer\n",
    "        layer = (n - 1) - i  # Index of current layer\n",
    "        o_i = cache['input'][layer]  # Input of current layer / Output of previous layer\n",
    "        w_j = params['w'][layer]  # Weight of current layer\n",
    "        s_j_der = h.backward(o_i @ w_j)\n",
    "        \n",
    "        if layer == (n - 1):  # If last layer\n",
    "            delta_j = loss.backward(output, t) * s_j_der\n",
    "        else:\n",
    "            delta_l = cache['delta'][layer + 1]  # Delta of next layer\n",
    "            w_l = params['w'][layer + 1]  # Weight of next layer\n",
    "            delta_j = w_l @ delta_l * s_j_der\n",
    "            \n",
    "        grads['w'][layer] = np.outer(o_i, delta_j)\n",
    "        grads['b'][layer] = delta_j\n",
    "        cache['delta'][layer] = delta_j\n",
    "    \n",
    "    # Update parameters\n",
    "    for i in range(n):\n",
    "        params['w'][i] -= learning_rate * grads['w'][i]\n",
    "        params['b'][i] -= learning_rate * grads['b'][i]\n",
    "    \n",
    "    return output"
   ]
  },
  {
   "cell_type": "code",
   "execution_count": 77,
   "metadata": {},
   "outputs": [
    {
     "name": "stdout",
     "output_type": "stream",
     "text": [
      "At    10 epoch, mean loss of 10 epoch: 69.9127474776679\n",
      "At    20 epoch, mean loss of 10 epoch: 58.11183851043386\n",
      "At    30 epoch, mean loss of 10 epoch: 54.60694051082548\n",
      "At    40 epoch, mean loss of 10 epoch: 53.516423076351465\n",
      "At    50 epoch, mean loss of 10 epoch: 52.569727966237814\n",
      "At    60 epoch, mean loss of 10 epoch: 52.03470276247441\n",
      "At    70 epoch, mean loss of 10 epoch: 51.74193517988944\n",
      "At    80 epoch, mean loss of 10 epoch: 51.47856187251277\n",
      "At    90 epoch, mean loss of 10 epoch: 50.14140025878953\n",
      "At   100 epoch, mean loss of 10 epoch: 49.29044547863606\n",
      "At   110 epoch, mean loss of 10 epoch: 49.1259387078269\n",
      "At   120 epoch, mean loss of 10 epoch: 49.22909755635836\n",
      "At   130 epoch, mean loss of 10 epoch: 49.3607949340306\n",
      "At   140 epoch, mean loss of 10 epoch: 49.49863885067637\n",
      "At   150 epoch, mean loss of 10 epoch: 49.46716564586022\n",
      "At   160 epoch, mean loss of 10 epoch: 49.25086335696626\n",
      "At   170 epoch, mean loss of 10 epoch: 49.07025250473208\n",
      "At   180 epoch, mean loss of 10 epoch: 49.01377746276818\n",
      "At   190 epoch, mean loss of 10 epoch: 48.960626721092474\n",
      "At   200 epoch, mean loss of 10 epoch: 48.9099264281752\n"
     ]
    }
   ],
   "source": [
    "# Solution to exercise 3\n",
    "\n",
    "# Weights for the input layer, hidden layers, and output layers.\n",
    "weights_b = [np.random.rand(2, 10), np.random.rand(10, 2)]\n",
    "biases_b = [np.zeros(10), np.zeros(2)]\n",
    "\n",
    "learning_rate = 0.1\n",
    "\n",
    "epoch = 200  # How many time to train the network with the whole training data.\n",
    "num_e = 10  # Print info every num_e epoch\n",
    "training_loss = 0\n",
    "losses = []\n",
    "\n",
    "for e in range(epoch):\n",
    "    loss = 0\n",
    "    for inputs, targets in zip(training['input'], training['target']):        \n",
    "        outputs = backpropagation_bias(inputs, targets, weights_b, biases_b, ReLU, CrossEntropyLoss, learning_rate)\n",
    "\n",
    "        training_loss += CrossEntropyLoss.forward(outputs, targets) / num_e\n",
    "        loss += CrossEntropyLoss.forward(outputs, targets)\n",
    "    losses.append(loss)\n",
    "\n",
    "    # Print training info every set amount of epoch\n",
    "    if not (e + 1) % num_e:\n",
    "        print(f\"At {e + 1: 5} epoch, mean loss of {num_e} epoch: {training_loss}\")\n",
    "        training_loss = 0"
   ]
  },
  {
   "cell_type": "code",
   "execution_count": 78,
   "metadata": {},
   "outputs": [
    {
     "name": "stdout",
     "output_type": "stream",
     "text": [
      "Network accuracy: 90.0%\n"
     ]
    }
   ],
   "source": [
    "# Solution to exercise 4\n",
    "\n",
    "# Test the network:\n",
    "correct_count = 0\n",
    "total_count = 0\n",
    "for inputs, targets in zip(training['input'], training['target']):\n",
    "    outputs = network_bias(inputs, weights_b, biases_b, ReLU)\n",
    "\n",
    "    total_count += 1\n",
    "    if np.argmax(outputs) == np.argmax(targets):\n",
    "        correct_count += 1\n",
    "\n",
    "accu = correct_count / total_count\n",
    "\n",
    "print(f\"Network accuracy: {accu * 100}%\")"
   ]
  }
 ],
 "metadata": {
  "kernelspec": {
   "display_name": "Python 3",
   "language": "python",
   "name": "python3"
  },
  "language_info": {
   "codemirror_mode": {
    "name": "ipython",
    "version": 3
   },
   "file_extension": ".py",
   "mimetype": "text/x-python",
   "name": "python",
   "nbconvert_exporter": "python",
   "pygments_lexer": "ipython3",
   "version": "3.7.4"
  }
 },
 "nbformat": 4,
 "nbformat_minor": 4
}
